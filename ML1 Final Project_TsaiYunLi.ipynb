{
 "cells": [
  {
   "cell_type": "markdown",
   "metadata": {},
   "source": [
    "# DTSA 5509 Intro to Machine Learning - Supervised Learning Final Project <br>\n",
    "\n",
    "### Project Title: Predicting Sleep Quality with Supervised Machine Learning Methods: A Case Study\n",
    "\n",
    "Date: 2023 Oct 2 <br>\n",
    "Author: Tsai-Yun Li <br>\n",
    "Course Lecturer: Geena Kim <br>\n",
    "Orginzation: University of Colorado Boulder <br>\n",
    "Github repo URL of this project:"
   ]
  },
  {
   "cell_type": "markdown",
   "metadata": {},
   "source": [
    "### I. Supervised Learning Problem Description\n",
    "Before introducing the topic and goal of this project, I would like to address my motivation behind it. A friend of mine with chronic sleep disorder has been recording a few information about his sleep, intended as a reference for his doctor. I hope the machine learning techniques I have learned in this course can serve as an additional aid for him to acquire a better sleep quality, giving his very-subjective impression of his sleep issue a little scientific touch, as well as an interesting practice of problem-solving with data sciece.\n",
    "\n",
    "In this project, I will view the prediction of sleep quality as a binary class classification task.\n",
    "I will use my friend's daily sleep data to train and test 5 different supervised machine learning models that are commonly used to tackle binary class classifications, namely logistic regression, decision tree, adaboost, random forest, and support vector machine models. Then the model with the best performance will be selected to predict sleep quality with unseen data under similar conditions.\n",
    "\n",
    "The questions I would like to answer via this project are: <br>\n",
    "1. Which features are correlated? How?\n",
    "2. Which features are important in the prediction of the subject's sleep quality? Why?\n",
    "3. Which model, logistic regression, decision tree, adaboost, random forest, or support vector machine, turns out to be the best model for this binary class classification task? Why?\n",
    "4. How well do the best-performing model predict the subject's sleep quality?"
   ]
  },
  {
   "cell_type": "code",
   "execution_count": 1,
   "metadata": {},
   "outputs": [
    {
     "name": "stdout",
     "output_type": "stream",
     "text": [
      "data size = (46, 14)\n"
     ]
    },
    {
     "data": {
      "text/html": [
       "<div>\n",
       "<style scoped>\n",
       "    .dataframe tbody tr th:only-of-type {\n",
       "        vertical-align: middle;\n",
       "    }\n",
       "\n",
       "    .dataframe tbody tr th {\n",
       "        vertical-align: top;\n",
       "    }\n",
       "\n",
       "    .dataframe thead th {\n",
       "        text-align: right;\n",
       "    }\n",
       "</style>\n",
       "<table border=\"1\" class=\"dataframe\">\n",
       "  <thead>\n",
       "    <tr style=\"text-align: right;\">\n",
       "      <th></th>\n",
       "      <th>Date</th>\n",
       "      <th>Day</th>\n",
       "      <th>Bedtime</th>\n",
       "      <th>Waketime</th>\n",
       "      <th>Sleep Length</th>\n",
       "      <th>Bedtime Temp</th>\n",
       "      <th>Perceived Temp</th>\n",
       "      <th>Dream</th>\n",
       "      <th>Wake Freq</th>\n",
       "      <th>Waked by Wife</th>\n",
       "      <th>Wife Nocturia</th>\n",
       "      <th>Sleep Quality Level</th>\n",
       "      <th>Slept Well</th>\n",
       "      <th>Meta Data</th>\n",
       "    </tr>\n",
       "  </thead>\n",
       "  <tbody>\n",
       "    <tr>\n",
       "      <th>0</th>\n",
       "      <td>5/6/22</td>\n",
       "      <td>Fri</td>\n",
       "      <td>11:00 PM</td>\n",
       "      <td>7:00 AM</td>\n",
       "      <td>8:00</td>\n",
       "      <td>26.3</td>\n",
       "      <td>Fine</td>\n",
       "      <td>Forgot</td>\n",
       "      <td>1.0</td>\n",
       "      <td>Yes</td>\n",
       "      <td>No</td>\n",
       "      <td>5.0</td>\n",
       "      <td>1.0</td>\n",
       "      <td>NaN</td>\n",
       "    </tr>\n",
       "    <tr>\n",
       "      <th>1</th>\n",
       "      <td>5/7/22</td>\n",
       "      <td>Sat</td>\n",
       "      <td>1:00 AM</td>\n",
       "      <td>8:30 AM</td>\n",
       "      <td>7:30</td>\n",
       "      <td>26.3</td>\n",
       "      <td>Fine</td>\n",
       "      <td>Forgot</td>\n",
       "      <td>1.0</td>\n",
       "      <td>Unsure</td>\n",
       "      <td>Yes</td>\n",
       "      <td>7.0</td>\n",
       "      <td>1.0</td>\n",
       "      <td>NaN</td>\n",
       "    </tr>\n",
       "    <tr>\n",
       "      <th>2</th>\n",
       "      <td>5/8/22</td>\n",
       "      <td>Sun</td>\n",
       "      <td>11:20 PM</td>\n",
       "      <td>7:30 AM</td>\n",
       "      <td>8:10</td>\n",
       "      <td>26.5</td>\n",
       "      <td>Hot</td>\n",
       "      <td>Forgot</td>\n",
       "      <td>0.0</td>\n",
       "      <td>No</td>\n",
       "      <td>Yes</td>\n",
       "      <td>4.0</td>\n",
       "      <td>-1.0</td>\n",
       "      <td>Drank too much water at night; Stomach a bit u...</td>\n",
       "    </tr>\n",
       "    <tr>\n",
       "      <th>3</th>\n",
       "      <td>5/9/22</td>\n",
       "      <td>Mon</td>\n",
       "      <td>1:00 AM</td>\n",
       "      <td>7:20 AM</td>\n",
       "      <td>6:20</td>\n",
       "      <td>26.5</td>\n",
       "      <td>Fine</td>\n",
       "      <td>Forgot</td>\n",
       "      <td>0.0</td>\n",
       "      <td>No</td>\n",
       "      <td>Yes</td>\n",
       "      <td>3.0</td>\n",
       "      <td>-1.0</td>\n",
       "      <td>NaN</td>\n",
       "    </tr>\n",
       "    <tr>\n",
       "      <th>4</th>\n",
       "      <td>5/10/22</td>\n",
       "      <td>Tue</td>\n",
       "      <td>11:00 PM</td>\n",
       "      <td>8:20 AM</td>\n",
       "      <td>9:20</td>\n",
       "      <td>26.7</td>\n",
       "      <td>Cold</td>\n",
       "      <td>Forgot</td>\n",
       "      <td>1.0</td>\n",
       "      <td>Unsure</td>\n",
       "      <td>Yes</td>\n",
       "      <td>5.0</td>\n",
       "      <td>1.0</td>\n",
       "      <td>NaN</td>\n",
       "    </tr>\n",
       "  </tbody>\n",
       "</table>\n",
       "</div>"
      ],
      "text/plain": [
       "      Date  Day   Bedtime Waketime Sleep Length  Bedtime Temp Perceived Temp  \\\n",
       "0   5/6/22  Fri  11:00 PM  7:00 AM         8:00          26.3           Fine   \n",
       "1   5/7/22  Sat   1:00 AM  8:30 AM         7:30          26.3           Fine   \n",
       "2   5/8/22  Sun  11:20 PM  7:30 AM         8:10          26.5            Hot   \n",
       "3   5/9/22  Mon   1:00 AM  7:20 AM         6:20          26.5           Fine   \n",
       "4  5/10/22  Tue  11:00 PM  8:20 AM         9:20          26.7           Cold   \n",
       "\n",
       "    Dream  Wake Freq Waked by Wife Wife Nocturia  Sleep Quality Level  \\\n",
       "0  Forgot        1.0           Yes            No                  5.0   \n",
       "1  Forgot        1.0        Unsure           Yes                  7.0   \n",
       "2  Forgot        0.0            No           Yes                  4.0   \n",
       "3  Forgot        0.0            No           Yes                  3.0   \n",
       "4  Forgot        1.0        Unsure           Yes                  5.0   \n",
       "\n",
       "   Slept Well                                          Meta Data  \n",
       "0         1.0                                                NaN  \n",
       "1         1.0                                                NaN  \n",
       "2        -1.0  Drank too much water at night; Stomach a bit u...  \n",
       "3        -1.0                                                NaN  \n",
       "4         1.0                                                NaN  "
      ]
     },
     "execution_count": 1,
     "metadata": {},
     "output_type": "execute_result"
    }
   ],
   "source": [
    "# importing and loading the data\n",
    "import pandas as pd\n",
    "\n",
    "sleepdata  = pd.read_csv('https://raw.githubusercontent.com/TsaiYunLi/ML1_Final_Project/main/JohnsonSleepData_labeled.csv')\n",
    "print('data size =', sleepdata.shape)\n",
    "sleepdata.head()"
   ]
  },
  {
   "cell_type": "markdown",
   "metadata": {},
   "source": [
    "### II. Data Description and Data Cleaning\n",
    "The sleep quality data is a tabulated dataset manually collected by the subject himself, intended as a reference for his doctor. I have got his full consent of using it in this public project.\n",
    "\n",
    "As shown in the output above, the dataset contains 644 data points, which is made up of 46 rows for each day's sleep record, from 5 May 2022 to 20 June 2022, and 14 columns for 13 features that the subject believes might influence his sleep (not research based but purely out of his own sleep experience) and one added by myself to store the label 'Slept Well' indicating whether or not the subject slept well, i.e. 1 for positive and -1 for negative cases. \n",
    "\n",
    "The features in the dataset are:\n",
    "1. Date (m/d/yy): the date when the sleep instance took place; <br>                 \n",
    "2. Day (Mon ~ Sun): the day when the sleep instance took place; <br> \n",
    "3. Bedtime (hh:mm AM/PM): the time when the subject went to bed; <br>  \n",
    "4. Waketime (hh:mm AM/PM): the time when the subject woke up; <br> \n",
    "5. Sleep Length (h:mm): the length of sleep the subject got; <br> \n",
    "6. Bedtime Temp (degree Celsius): the bedroom temperature at Bedtime; <br>\n",
    "Note that the bedroom was always air-conditioned at 26 degree Celsius. 'Bedtime Temp' is the measured before the air-conditioner was turned on. <br> \n",
    "7. Perceived Temp (Fine/Hot/Cold): how the subject physically felt about the bedroom temperature at Bedtime; <br> \n",
    "8. Dream (Forgot/Remeber/Unsure): wheteher or not the subject remember any dream at Waketime; <br>\n",
    "9. Wake Freq (times): number of times the subject woke up during sleep; <br>\n",
    "10. Waked by Wife (Yes/No/Unsure): whether or not the subject was waked by his wife during sleep; <br>\n",
    "11. Wife Nocturia (Yes/No): whether or not the subject's wife experienced nocturia; <br>\n",
    "12. Sleep Quality Level (0~10): how the subject self-evaluated his sleep qualtiy according to how fatigue he felt at Waketime, which is a 0 to 10 scale with 0 as the lowest score and 10 the highest; <br>\n",
    "13. Slept Well (1, -1): the label of each record; <br>\n",
    "I labelled the records with sleep quality level 5 to 9 as 1, i.e. positive, and sleep quality level 0 to 4 as -1, i.e. negative. Note that the subject never experienced a sleep quality level of 10. <br>\n",
    "14. Meta Data: additional qualitative information about the sleep that the subject thought might had an influence on his sleep experience <br>\n",
    "\n",
    "In the following code sections, I will explore the dataset in detail to check for and handle useless data and missing data (null values). Then, when necessary, I will convert some features to other data types and/or normalize them into the scales more suitable for modeling."
   ]
  },
  {
   "cell_type": "code",
   "execution_count": 2,
   "metadata": {},
   "outputs": [
    {
     "name": "stdout",
     "output_type": "stream",
     "text": [
      "<class 'pandas.core.frame.DataFrame'>\n",
      "RangeIndex: 46 entries, 0 to 45\n",
      "Data columns (total 14 columns):\n",
      " #   Column               Non-Null Count  Dtype  \n",
      "---  ------               --------------  -----  \n",
      " 0   Date                 46 non-null     object \n",
      " 1   Day                  46 non-null     object \n",
      " 2   Bedtime              41 non-null     object \n",
      " 3   Waketime             41 non-null     object \n",
      " 4   Sleep Length         41 non-null     object \n",
      " 5   Bedtime Temp         41 non-null     float64\n",
      " 6   Perceived Temp       41 non-null     object \n",
      " 7   Dream                41 non-null     object \n",
      " 8   Wake Freq            41 non-null     float64\n",
      " 9   Waked by Wife        41 non-null     object \n",
      " 10  Wife Nocturia        41 non-null     object \n",
      " 11  Sleep Quality Level  41 non-null     float64\n",
      " 12  Slept Well           41 non-null     float64\n",
      " 13  Meta Data            16 non-null     object \n",
      "dtypes: float64(4), object(10)\n",
      "memory usage: 5.2+ KB\n"
     ]
    }
   ],
   "source": [
    "# checking for null values and each feature's data type\n",
    "sleepdata.info()"
   ]
  },
  {
   "cell_type": "code",
   "execution_count": 3,
   "metadata": {},
   "outputs": [
    {
     "name": "stdout",
     "output_type": "stream",
     "text": [
      "column name, number of null values in each column before data cleaning:\n"
     ]
    },
    {
     "data": {
      "text/plain": [
       "Date                    0\n",
       "Day                     0\n",
       "Bedtime                 5\n",
       "Waketime                5\n",
       "Sleep Length            5\n",
       "Bedtime Temp            5\n",
       "Perceived Temp          5\n",
       "Dream                   5\n",
       "Wake Freq               5\n",
       "Waked by Wife           5\n",
       "Wife Nocturia           5\n",
       "Sleep Quality Level     5\n",
       "Slept Well              5\n",
       "Meta Data              30\n",
       "dtype: int64"
      ]
     },
     "execution_count": 3,
     "metadata": {},
     "output_type": "execute_result"
    }
   ],
   "source": [
    "# checking for each column's null values\n",
    "print(\"column name, number of null values in each column before data cleaning:\")\n",
    "sleepdata.isna().sum()"
   ]
  },
  {
   "cell_type": "code",
   "execution_count": 4,
   "metadata": {},
   "outputs": [
    {
     "name": "stdout",
     "output_type": "stream",
     "text": [
      "row index, number of null values in each row before data cleaning:\n"
     ]
    },
    {
     "data": {
      "text/plain": [
       "0      1\n",
       "1      1\n",
       "2      0\n",
       "3      1\n",
       "4      1\n",
       "5      0\n",
       "6     12\n",
       "7     12\n",
       "8     12\n",
       "9      0\n",
       "10     0\n",
       "11     0\n",
       "12     1\n",
       "13     1\n",
       "14     1\n",
       "15     1\n",
       "16     0\n",
       "17     1\n",
       "18     1\n",
       "19     1\n",
       "20     1\n",
       "21    12\n",
       "22     1\n",
       "23     1\n",
       "24     1\n",
       "25     0\n",
       "26     0\n",
       "27     1\n",
       "28     0\n",
       "29     0\n",
       "30     1\n",
       "31     1\n",
       "32     0\n",
       "33    12\n",
       "34     1\n",
       "35     1\n",
       "36     0\n",
       "37     0\n",
       "38     1\n",
       "39     0\n",
       "40     1\n",
       "41     0\n",
       "42     1\n",
       "43     1\n",
       "44     0\n",
       "45     1\n",
       "dtype: int64"
      ]
     },
     "execution_count": 4,
     "metadata": {},
     "output_type": "execute_result"
    }
   ],
   "source": [
    "# checking for each row's null values\n",
    "print(\"row index, number of null values in each row before data cleaning:\")\n",
    "sleepdata.isna().sum(axis=1)"
   ]
  },
  {
   "cell_type": "markdown",
   "metadata": {},
   "source": [
    "From the output above, we can tell that except the first two columns, there are null values in the rest of the columns. Most features are objects, except for 'Bedtime Temp', 'Wake Freq', 'Sleep Quality Level', and 'Slept Well'.\n",
    "\n",
    "Firstly, I decide to drop the column for 'Meta Data,' not only because it contains many null values but also for the fact that I am not going refer to it in my analysis. Secondly, since all the null values are in the same 5 rows, which takes up only 11% of the data, I will drop these rows. Then I will perform some data type convertions."
   ]
  },
  {
   "cell_type": "code",
   "execution_count": 5,
   "metadata": {},
   "outputs": [
    {
     "name": "stdout",
     "output_type": "stream",
     "text": [
      "original dataset shape: (46, 14)\n",
      "dataset shape after the data cleaning above: (41, 13)\n"
     ]
    }
   ],
   "source": [
    "print(\"original dataset shape:\", sleepdata.shape)\n",
    "## removing specific data\n",
    "# dropping 'Meta Data'\n",
    "sleepdata = sleepdata.drop('Meta Data', axis=1)\n",
    "\n",
    "# dropping the 5 rows with null values\n",
    "sleepdata = sleepdata.dropna()\n",
    "\n",
    "## encoding categorical features\n",
    "# substituting 'Day' values (Mon, Tues, Wed, Thurs, Fri, Sat, Sun) with number (1, 2, 3, 4, 5, 6, 7)\n",
    "weekday_mapping = {'Mon': 1, 'Tue': 2, 'Wed': 3, 'Thurs': 4, 'Fri': 5, 'Sat': 6, 'Sun': 7}\n",
    "sleepdata['Day'] = sleepdata['Day'].map(weekday_mapping).astype(float)\n",
    "\n",
    "# transforming the 'Bedtime' values from temporal format into numbers\n",
    "# e.g. from 10:30 PM to 20.5; from 11:00 PM to 23.0; from 12:00 AM to 24.0; from 1:00 AM to 25.0\n",
    "bedtime_numbers = []\n",
    "nonNA_Bedtime = sleepdata['Bedtime'].notna()\n",
    "for t in sleepdata['Bedtime'][nonNA_Bedtime]:\n",
    "    time_parts = t.split(' ')\n",
    "    hour, minute = map(int, time_parts[0].split(':'))\n",
    "    if time_parts[1] == 'PM' and hour <= 11:\n",
    "        hour += 12\n",
    "    if time_parts[1] == 'AM' and hour == 12:\n",
    "        hour += 12\n",
    "    if time_parts[1] == 'AM' and 1 <= hour < 12:\n",
    "        hour += 24\n",
    "    fractional_hour = hour + minute / 60.0\n",
    "    bedtime_numbers.append(fractional_hour)\n",
    "sleepdata.loc[nonNA_Bedtime, 'Bedtime'] = bedtime_numbers\n",
    "\n",
    "# transforming the 'Waketime' values from temporal format into numbers\n",
    "# e.g. from 9:00 AM to 9.0, from 9:30 AM to 9.5\n",
    "waketime_numbers = []\n",
    "nonNA_Waketime = sleepdata['Waketime'].notna()\n",
    "for t in sleepdata['Waketime'][nonNA_Waketime]:\n",
    "    time_parts = t.split(' ')\n",
    "    hour, minute = map(int, time_parts[0].split(':'))\n",
    "    fractional_hour = hour + minute / 60.0\n",
    "    waketime_numbers.append(fractional_hour)\n",
    "sleepdata.loc[nonNA_Waketime, 'Waketime'] = waketime_numbers\n",
    "\n",
    "# transforming the 'Sleep Length' values from temporal format into numbers\n",
    "# e.g. from 8:00 to 8, from 7:30 to 7.5\n",
    "sleeplength_numbers = []\n",
    "nonNA_SleepLength = sleepdata['Sleep Length'].notna()\n",
    "for t in sleepdata['Sleep Length'][nonNA_SleepLength]:\n",
    "    time_parts = t.split(' ')\n",
    "    hour, minute = map(int, time_parts[0].split(':'))\n",
    "    fractional_hour = hour + minute / 60.0\n",
    "    sleeplength_numbers.append(fractional_hour)\n",
    "sleepdata.loc[nonNA_SleepLength, 'Sleep Length'] = sleeplength_numbers\n",
    "\n",
    "# converting the categorical 'Perceived Temp' from categorical to numerical data\n",
    "# substituting (Cold, Hot, Fine) with (1, 2, 3)\n",
    "perctemp_mapping = {'Cold': 1, 'Hot': 2, 'Fine': 3}\n",
    "sleepdata['Perceived Temp'] = sleepdata['Perceived Temp'].map(perctemp_mapping).astype(float)\n",
    "\n",
    "# converting the categorical 'Dream' from categorical to numerical data\n",
    "# substituting (Remember, Forgot) with (1, 2)\n",
    "dream_mapping = {'Remember': 1, 'Forgot': 2}\n",
    "sleepdata['Dream'] = sleepdata['Dream'].map(dream_mapping).astype(float)\n",
    "\n",
    "# converting the categorical 'Waked by Wife' from categorical to numerical data\n",
    "# substituting (Unsure, Yes, No) with (1, 2, 3)\n",
    "wbf_mapping = {'Unsure': 1, 'Yes': 2, 'No': 3}\n",
    "sleepdata['Waked by Wife'] = sleepdata['Waked by Wife'].map(wbf_mapping).astype(float)\n",
    "\n",
    "# converting the categorical 'Wife Nocturia' from categorical to numerical data\n",
    "# substituting (Yes, No) with (1, 2)\n",
    "wn_mapping = {'Yes': 1, 'No': 2}\n",
    "sleepdata['Wife Nocturia'] = sleepdata['Wife Nocturia'].map(wn_mapping).astype(float)\n",
    "\n",
    "print(\"dataset shape after the data cleaning above:\", sleepdata.shape)"
   ]
  },
  {
   "cell_type": "code",
   "execution_count": 6,
   "metadata": {},
   "outputs": [
    {
     "name": "stdout",
     "output_type": "stream",
     "text": [
      "column name, number of null values in each column after data cleaning: Date                   0\n",
      "Day                    0\n",
      "Bedtime                0\n",
      "Waketime               0\n",
      "Sleep Length           0\n",
      "Bedtime Temp           0\n",
      "Perceived Temp         0\n",
      "Dream                  0\n",
      "Wake Freq              0\n",
      "Waked by Wife          0\n",
      "Wife Nocturia          0\n",
      "Sleep Quality Level    0\n",
      "Slept Well             0\n",
      "dtype: int64 \n",
      "\n",
      "row index, number of null values in each row after data cleaning: 0     0\n",
      "1     0\n",
      "2     0\n",
      "3     0\n",
      "4     0\n",
      "5     0\n",
      "9     0\n",
      "10    0\n",
      "11    0\n",
      "12    0\n",
      "13    0\n",
      "14    0\n",
      "15    0\n",
      "16    0\n",
      "17    0\n",
      "18    0\n",
      "19    0\n",
      "20    0\n",
      "22    0\n",
      "23    0\n",
      "24    0\n",
      "25    0\n",
      "26    0\n",
      "27    0\n",
      "28    0\n",
      "29    0\n",
      "30    0\n",
      "31    0\n",
      "32    0\n",
      "34    0\n",
      "35    0\n",
      "36    0\n",
      "37    0\n",
      "38    0\n",
      "39    0\n",
      "40    0\n",
      "41    0\n",
      "42    0\n",
      "43    0\n",
      "44    0\n",
      "45    0\n",
      "dtype: int64\n"
     ]
    }
   ],
   "source": [
    "## double checking if all the null values are eliminated\n",
    "# checking for each column's null values\n",
    "print(\"column name, number of null values in each column after data cleaning:\", sleepdata.isna().sum(), \"\\n\")\n",
    "\n",
    "# checking for each row's null values\n",
    "print(\"row index, number of null values in each row after data cleaning:\", sleepdata.isna().sum(axis=1))"
   ]
  },
  {
   "cell_type": "code",
   "execution_count": 7,
   "metadata": {},
   "outputs": [
    {
     "name": "stdout",
     "output_type": "stream",
     "text": [
      "data head after data cleaning:\n"
     ]
    },
    {
     "data": {
      "text/html": [
       "<div>\n",
       "<style scoped>\n",
       "    .dataframe tbody tr th:only-of-type {\n",
       "        vertical-align: middle;\n",
       "    }\n",
       "\n",
       "    .dataframe tbody tr th {\n",
       "        vertical-align: top;\n",
       "    }\n",
       "\n",
       "    .dataframe thead th {\n",
       "        text-align: right;\n",
       "    }\n",
       "</style>\n",
       "<table border=\"1\" class=\"dataframe\">\n",
       "  <thead>\n",
       "    <tr style=\"text-align: right;\">\n",
       "      <th></th>\n",
       "      <th>Date</th>\n",
       "      <th>Day</th>\n",
       "      <th>Bedtime</th>\n",
       "      <th>Waketime</th>\n",
       "      <th>Sleep Length</th>\n",
       "      <th>Bedtime Temp</th>\n",
       "      <th>Perceived Temp</th>\n",
       "      <th>Dream</th>\n",
       "      <th>Wake Freq</th>\n",
       "      <th>Waked by Wife</th>\n",
       "      <th>Wife Nocturia</th>\n",
       "      <th>Sleep Quality Level</th>\n",
       "      <th>Slept Well</th>\n",
       "    </tr>\n",
       "  </thead>\n",
       "  <tbody>\n",
       "    <tr>\n",
       "      <th>0</th>\n",
       "      <td>5/6/22</td>\n",
       "      <td>5.0</td>\n",
       "      <td>23.000000</td>\n",
       "      <td>7.000000</td>\n",
       "      <td>8.000000</td>\n",
       "      <td>26.3</td>\n",
       "      <td>3.0</td>\n",
       "      <td>2.0</td>\n",
       "      <td>1.0</td>\n",
       "      <td>2.0</td>\n",
       "      <td>2.0</td>\n",
       "      <td>5.0</td>\n",
       "      <td>1.0</td>\n",
       "    </tr>\n",
       "    <tr>\n",
       "      <th>1</th>\n",
       "      <td>5/7/22</td>\n",
       "      <td>6.0</td>\n",
       "      <td>25.000000</td>\n",
       "      <td>8.500000</td>\n",
       "      <td>7.500000</td>\n",
       "      <td>26.3</td>\n",
       "      <td>3.0</td>\n",
       "      <td>2.0</td>\n",
       "      <td>1.0</td>\n",
       "      <td>1.0</td>\n",
       "      <td>1.0</td>\n",
       "      <td>7.0</td>\n",
       "      <td>1.0</td>\n",
       "    </tr>\n",
       "    <tr>\n",
       "      <th>2</th>\n",
       "      <td>5/8/22</td>\n",
       "      <td>7.0</td>\n",
       "      <td>23.333333</td>\n",
       "      <td>7.500000</td>\n",
       "      <td>8.166667</td>\n",
       "      <td>26.5</td>\n",
       "      <td>2.0</td>\n",
       "      <td>2.0</td>\n",
       "      <td>0.0</td>\n",
       "      <td>3.0</td>\n",
       "      <td>1.0</td>\n",
       "      <td>4.0</td>\n",
       "      <td>-1.0</td>\n",
       "    </tr>\n",
       "    <tr>\n",
       "      <th>3</th>\n",
       "      <td>5/9/22</td>\n",
       "      <td>1.0</td>\n",
       "      <td>25.000000</td>\n",
       "      <td>7.333333</td>\n",
       "      <td>6.333333</td>\n",
       "      <td>26.5</td>\n",
       "      <td>3.0</td>\n",
       "      <td>2.0</td>\n",
       "      <td>0.0</td>\n",
       "      <td>3.0</td>\n",
       "      <td>1.0</td>\n",
       "      <td>3.0</td>\n",
       "      <td>-1.0</td>\n",
       "    </tr>\n",
       "    <tr>\n",
       "      <th>4</th>\n",
       "      <td>5/10/22</td>\n",
       "      <td>2.0</td>\n",
       "      <td>23.000000</td>\n",
       "      <td>8.333333</td>\n",
       "      <td>9.333333</td>\n",
       "      <td>26.7</td>\n",
       "      <td>1.0</td>\n",
       "      <td>2.0</td>\n",
       "      <td>1.0</td>\n",
       "      <td>1.0</td>\n",
       "      <td>1.0</td>\n",
       "      <td>5.0</td>\n",
       "      <td>1.0</td>\n",
       "    </tr>\n",
       "  </tbody>\n",
       "</table>\n",
       "</div>"
      ],
      "text/plain": [
       "      Date  Day    Bedtime  Waketime  Sleep Length  Bedtime Temp  \\\n",
       "0   5/6/22  5.0  23.000000  7.000000      8.000000          26.3   \n",
       "1   5/7/22  6.0  25.000000  8.500000      7.500000          26.3   \n",
       "2   5/8/22  7.0  23.333333  7.500000      8.166667          26.5   \n",
       "3   5/9/22  1.0  25.000000  7.333333      6.333333          26.5   \n",
       "4  5/10/22  2.0  23.000000  8.333333      9.333333          26.7   \n",
       "\n",
       "   Perceived Temp  Dream  Wake Freq  Waked by Wife  Wife Nocturia  \\\n",
       "0             3.0    2.0        1.0            2.0            2.0   \n",
       "1             3.0    2.0        1.0            1.0            1.0   \n",
       "2             2.0    2.0        0.0            3.0            1.0   \n",
       "3             3.0    2.0        0.0            3.0            1.0   \n",
       "4             1.0    2.0        1.0            1.0            1.0   \n",
       "\n",
       "   Sleep Quality Level  Slept Well  \n",
       "0                  5.0         1.0  \n",
       "1                  7.0         1.0  \n",
       "2                  4.0        -1.0  \n",
       "3                  3.0        -1.0  \n",
       "4                  5.0         1.0  "
      ]
     },
     "execution_count": 7,
     "metadata": {},
     "output_type": "execute_result"
    }
   ],
   "source": [
    "print(\"data head after data cleaning:\")\n",
    "sleepdata.head()"
   ]
  },
  {
   "cell_type": "code",
   "execution_count": 8,
   "metadata": {},
   "outputs": [
    {
     "name": "stdout",
     "output_type": "stream",
     "text": [
      "data info after data cleaning:\n",
      "<class 'pandas.core.frame.DataFrame'>\n",
      "Int64Index: 41 entries, 0 to 45\n",
      "Data columns (total 13 columns):\n",
      " #   Column               Non-Null Count  Dtype  \n",
      "---  ------               --------------  -----  \n",
      " 0   Date                 41 non-null     object \n",
      " 1   Day                  41 non-null     float64\n",
      " 2   Bedtime              41 non-null     float64\n",
      " 3   Waketime             41 non-null     float64\n",
      " 4   Sleep Length         41 non-null     float64\n",
      " 5   Bedtime Temp         41 non-null     float64\n",
      " 6   Perceived Temp       41 non-null     float64\n",
      " 7   Dream                41 non-null     float64\n",
      " 8   Wake Freq            41 non-null     float64\n",
      " 9   Waked by Wife        41 non-null     float64\n",
      " 10  Wife Nocturia        41 non-null     float64\n",
      " 11  Sleep Quality Level  41 non-null     float64\n",
      " 12  Slept Well           41 non-null     float64\n",
      "dtypes: float64(12), object(1)\n",
      "memory usage: 4.5+ KB\n"
     ]
    }
   ],
   "source": [
    "print(\"data info after data cleaning:\")\n",
    "sleepdata.info()"
   ]
  },
  {
   "cell_type": "code",
   "execution_count": 9,
   "metadata": {},
   "outputs": [
    {
     "name": "stdout",
     "output_type": "stream",
     "text": [
      "data shape after data cleaning:\n"
     ]
    },
    {
     "data": {
      "text/plain": [
       "(41, 13)"
      ]
     },
     "execution_count": 9,
     "metadata": {},
     "output_type": "execute_result"
    }
   ],
   "source": [
    "print(\"data shape after data cleaning:\")\n",
    "sleepdata.shape"
   ]
  },
  {
   "cell_type": "markdown",
   "metadata": {},
   "source": [
    "##### Data cleaning summary:\n",
    "\n",
    "1. one useless column 'Meta Data'and 5 rows of of data full of null values are removed;<br>\n",
    "2. no useless or missing data left;<br>\n",
    "3. contains 13 features, only 'Date' remains as a string object, others are all converted into float64 numerical items for the convenience of further statistical/graphical analysis and modelling;<br>\n",
    "4. contains 41 rows and 13 columns\n",
    "\n",
    "##### Data cleaning discussion: \n",
    "I have scaled categorical variables 'Bedtime,' 'Waketime', and 'Sleep Length' according to common units of time; however, for other categorical variables 'Perceived Temp,' 'Dream, 'Waked by Wife,' and 'Wife Nocturia,' I converted them into integers like 1, 2, 3, without domain research and meaningful context, only serving the purpose of differentiating conditions. On the one hand, this could cause problems if we want to analyze their weights, which I did not attempt to in this project. On the other hand, it could provide another layer of analysis if we know and use their weights instead."
   ]
  },
  {
   "cell_type": "markdown",
   "metadata": {},
   "source": [
    "### III. Exporatory Data Analysis\n",
    "\n",
    "In this section, I will explore the dataset further and prepare it ready for modelling. First, I will compute simple summary statistics and graph the distribution of the features to get an impression of the main characteristics and patterns of the data. Then check for and handle outliers and correlated features to reduce overfitting. Finally, I will find out if the dataset is balanced or not, which would influence my choice of model evaltion metrics later."
   ]
  },
  {
   "cell_type": "code",
   "execution_count": 10,
   "metadata": {},
   "outputs": [
    {
     "data": {
      "text/html": [
       "<div>\n",
       "<style scoped>\n",
       "    .dataframe tbody tr th:only-of-type {\n",
       "        vertical-align: middle;\n",
       "    }\n",
       "\n",
       "    .dataframe tbody tr th {\n",
       "        vertical-align: top;\n",
       "    }\n",
       "\n",
       "    .dataframe thead th {\n",
       "        text-align: right;\n",
       "    }\n",
       "</style>\n",
       "<table border=\"1\" class=\"dataframe\">\n",
       "  <thead>\n",
       "    <tr style=\"text-align: right;\">\n",
       "      <th></th>\n",
       "      <th>Day</th>\n",
       "      <th>Bedtime</th>\n",
       "      <th>Waketime</th>\n",
       "      <th>Sleep Length</th>\n",
       "      <th>Bedtime Temp</th>\n",
       "      <th>Perceived Temp</th>\n",
       "      <th>Dream</th>\n",
       "      <th>Wake Freq</th>\n",
       "      <th>Waked by Wife</th>\n",
       "      <th>Wife Nocturia</th>\n",
       "      <th>Sleep Quality Level</th>\n",
       "      <th>Slept Well</th>\n",
       "    </tr>\n",
       "  </thead>\n",
       "  <tbody>\n",
       "    <tr>\n",
       "      <th>count</th>\n",
       "      <td>41.000000</td>\n",
       "      <td>41.000000</td>\n",
       "      <td>41.000000</td>\n",
       "      <td>41.000000</td>\n",
       "      <td>41.00000</td>\n",
       "      <td>41.000000</td>\n",
       "      <td>41.000000</td>\n",
       "      <td>41.000000</td>\n",
       "      <td>41.000000</td>\n",
       "      <td>41.000000</td>\n",
       "      <td>41.000000</td>\n",
       "      <td>41.000000</td>\n",
       "    </tr>\n",
       "    <tr>\n",
       "      <th>mean</th>\n",
       "      <td>4.000000</td>\n",
       "      <td>23.654472</td>\n",
       "      <td>7.928862</td>\n",
       "      <td>8.274390</td>\n",
       "      <td>27.60000</td>\n",
       "      <td>2.512195</td>\n",
       "      <td>1.926829</td>\n",
       "      <td>0.439024</td>\n",
       "      <td>2.682927</td>\n",
       "      <td>1.097561</td>\n",
       "      <td>4.170732</td>\n",
       "      <td>0.024390</td>\n",
       "    </tr>\n",
       "    <tr>\n",
       "      <th>std</th>\n",
       "      <td>2.144761</td>\n",
       "      <td>0.886935</td>\n",
       "      <td>0.688083</td>\n",
       "      <td>1.035187</td>\n",
       "      <td>1.44931</td>\n",
       "      <td>0.840296</td>\n",
       "      <td>0.263652</td>\n",
       "      <td>1.073517</td>\n",
       "      <td>0.609878</td>\n",
       "      <td>0.300406</td>\n",
       "      <td>2.143624</td>\n",
       "      <td>1.012122</td>\n",
       "    </tr>\n",
       "    <tr>\n",
       "      <th>min</th>\n",
       "      <td>1.000000</td>\n",
       "      <td>22.000000</td>\n",
       "      <td>6.000000</td>\n",
       "      <td>5.166667</td>\n",
       "      <td>25.00000</td>\n",
       "      <td>1.000000</td>\n",
       "      <td>1.000000</td>\n",
       "      <td>0.000000</td>\n",
       "      <td>1.000000</td>\n",
       "      <td>1.000000</td>\n",
       "      <td>0.000000</td>\n",
       "      <td>-1.000000</td>\n",
       "    </tr>\n",
       "    <tr>\n",
       "      <th>25%</th>\n",
       "      <td>2.000000</td>\n",
       "      <td>23.000000</td>\n",
       "      <td>7.500000</td>\n",
       "      <td>7.833333</td>\n",
       "      <td>26.30000</td>\n",
       "      <td>2.000000</td>\n",
       "      <td>2.000000</td>\n",
       "      <td>0.000000</td>\n",
       "      <td>3.000000</td>\n",
       "      <td>1.000000</td>\n",
       "      <td>3.000000</td>\n",
       "      <td>-1.000000</td>\n",
       "    </tr>\n",
       "    <tr>\n",
       "      <th>50%</th>\n",
       "      <td>4.000000</td>\n",
       "      <td>23.500000</td>\n",
       "      <td>8.000000</td>\n",
       "      <td>8.500000</td>\n",
       "      <td>27.30000</td>\n",
       "      <td>3.000000</td>\n",
       "      <td>2.000000</td>\n",
       "      <td>0.000000</td>\n",
       "      <td>3.000000</td>\n",
       "      <td>1.000000</td>\n",
       "      <td>5.000000</td>\n",
       "      <td>1.000000</td>\n",
       "    </tr>\n",
       "    <tr>\n",
       "      <th>75%</th>\n",
       "      <td>6.000000</td>\n",
       "      <td>24.166667</td>\n",
       "      <td>8.500000</td>\n",
       "      <td>9.000000</td>\n",
       "      <td>29.00000</td>\n",
       "      <td>3.000000</td>\n",
       "      <td>2.000000</td>\n",
       "      <td>1.000000</td>\n",
       "      <td>3.000000</td>\n",
       "      <td>1.000000</td>\n",
       "      <td>5.000000</td>\n",
       "      <td>1.000000</td>\n",
       "    </tr>\n",
       "    <tr>\n",
       "      <th>max</th>\n",
       "      <td>7.000000</td>\n",
       "      <td>26.333333</td>\n",
       "      <td>9.166667</td>\n",
       "      <td>9.916667</td>\n",
       "      <td>30.10000</td>\n",
       "      <td>3.000000</td>\n",
       "      <td>2.000000</td>\n",
       "      <td>6.000000</td>\n",
       "      <td>3.000000</td>\n",
       "      <td>2.000000</td>\n",
       "      <td>9.000000</td>\n",
       "      <td>1.000000</td>\n",
       "    </tr>\n",
       "  </tbody>\n",
       "</table>\n",
       "</div>"
      ],
      "text/plain": [
       "             Day    Bedtime   Waketime  Sleep Length  Bedtime Temp  \\\n",
       "count  41.000000  41.000000  41.000000     41.000000      41.00000   \n",
       "mean    4.000000  23.654472   7.928862      8.274390      27.60000   \n",
       "std     2.144761   0.886935   0.688083      1.035187       1.44931   \n",
       "min     1.000000  22.000000   6.000000      5.166667      25.00000   \n",
       "25%     2.000000  23.000000   7.500000      7.833333      26.30000   \n",
       "50%     4.000000  23.500000   8.000000      8.500000      27.30000   \n",
       "75%     6.000000  24.166667   8.500000      9.000000      29.00000   \n",
       "max     7.000000  26.333333   9.166667      9.916667      30.10000   \n",
       "\n",
       "       Perceived Temp      Dream  Wake Freq  Waked by Wife  Wife Nocturia  \\\n",
       "count       41.000000  41.000000  41.000000      41.000000      41.000000   \n",
       "mean         2.512195   1.926829   0.439024       2.682927       1.097561   \n",
       "std          0.840296   0.263652   1.073517       0.609878       0.300406   \n",
       "min          1.000000   1.000000   0.000000       1.000000       1.000000   \n",
       "25%          2.000000   2.000000   0.000000       3.000000       1.000000   \n",
       "50%          3.000000   2.000000   0.000000       3.000000       1.000000   \n",
       "75%          3.000000   2.000000   1.000000       3.000000       1.000000   \n",
       "max          3.000000   2.000000   6.000000       3.000000       2.000000   \n",
       "\n",
       "       Sleep Quality Level  Slept Well  \n",
       "count            41.000000   41.000000  \n",
       "mean              4.170732    0.024390  \n",
       "std               2.143624    1.012122  \n",
       "min               0.000000   -1.000000  \n",
       "25%               3.000000   -1.000000  \n",
       "50%               5.000000    1.000000  \n",
       "75%               5.000000    1.000000  \n",
       "max               9.000000    1.000000  "
      ]
     },
     "execution_count": 10,
     "metadata": {},
     "output_type": "execute_result"
    }
   ],
   "source": [
    "## getting a rough statistic idea of the features\n",
    "# simple statistics of each feature\n",
    "sleepdata.describe()"
   ]
  },
  {
   "cell_type": "code",
   "execution_count": 11,
   "metadata": {},
   "outputs": [
    {
     "name": "stdout",
     "output_type": "stream",
     "text": [
      "mode of Perceived Temp = 3.0\n",
      "mode of Dream = 2.0\n",
      "mode of Waked by Wife = 3.0\n",
      "mode of Wife Nocturia = 1.0\n",
      "mode of Slept Well = 1.0\n"
     ]
    }
   ],
   "source": [
    "# mode of numerical items converted from categorical values\n",
    "PT_mode = sleepdata['Perceived Temp'].mode().iloc[0]\n",
    "Dr_mode = sleepdata['Dream'].mode().iloc[0]\n",
    "WbW_mode = sleepdata['Waked by Wife'].mode().iloc[0]\n",
    "WN_mode = sleepdata['Wife Nocturia'].mode().iloc[0]\n",
    "SW_mode = sleepdata['Slept Well'].mode().iloc[0]\n",
    "print(\"mode of Perceived Temp =\", PT_mode)\n",
    "print(\"mode of Dream =\", Dr_mode)\n",
    "print(\"mode of Waked by Wife =\", WbW_mode)\n",
    "print(\"mode of Wife Nocturia =\", WN_mode)\n",
    "print(\"mode of Slept Well =\", SW_mode)"
   ]
  },
  {
   "cell_type": "markdown",
   "metadata": {},
   "source": [
    "##### The mean of each feature and their contextual interpretation:\n",
    "1. Day (4.00): Thurs; <br>\n",
    "2. Bedtime (23.65): 11:39 PM; <br>\n",
    "3. Waketime (7.93): 7:56 AM; <br>\n",
    "4. Sleep Length (8.27): 8 hours 16 minutes; <br>\n",
    "5. Bedtime Temp (27.60): 27.6 degree Celsius; <br>\n",
    "6. Perceived Temp (2.51): not meaningful in context; <br>\n",
    "7. Dream (1.93): not meaningful; <br>\n",
    "8. Wake Freq (0.44): 44% of the times of sleep; <br>\n",
    "9. Waked by Wife (2.68): not meaningful in context; <br>\n",
    "10. Wife Nocturia (1.10): not meaningful in context; <br>\n",
    "11. Sleep Quality Level (4.17): level 4; <br>\n",
    "12. Slept Well (0.02): not meaningful in context <br>\n",
    "These are the average of all the features.\n",
    "\n",
    "##### The mode of \"categorically labelled\" features and their contextual interpretation:\n",
    "1. Perceived Temp (3): Fine; <br>\n",
    "2. Dream (2): Forgot; <br>\n",
    "3. Waked by Wife (3): No; <br>\n",
    "4. Wife Nocturia(1): Yes; <br>\n",
    "5. Slept Well (1): positive <br>\n",
    "These are the most frequent items of the 5 features above."
   ]
  },
  {
   "cell_type": "code",
   "execution_count": 12,
   "metadata": {},
   "outputs": [
    {
     "data": {
      "image/png": "[encoded data removed]",
      "text/plain": [
       "<Figure size 864x720 with 12 Axes>"
      ]
     },
     "metadata": {
      "needs_background": "light"
     },
     "output_type": "display_data"
    }
   ],
   "source": [
    "## understanding the distribution of the features\n",
    "# creating a histogram (3x4 grid) for the distribution of each feature (excluding 'Date')\n",
    "import pandas as pd\n",
    "import matplotlib.pyplot as plt\n",
    "import seaborn as sns\n",
    "\n",
    "fig, axes = plt.subplots(3, 4, figsize=(12, 10))\n",
    "axes = axes.ravel()\n",
    "\n",
    "for i, feature in enumerate(sleepdata.columns[1:], 1):\n",
    "    ax = axes[i - 1] #skips the first column 'Date'\n",
    "    sns.distplot(sleepdata[feature], ax=ax, kde=True)\n",
    "    ax.set_title(f'Histogram of {feature}')\n",
    "    ax.set_xlabel('')\n",
    "    ax.set_ylabel('')\n",
    "\n",
    "plt.tight_layout()\n",
    "plt.show()"
   ]
  },
  {
   "cell_type": "markdown",
   "metadata": {},
   "source": [
    "##### The shape of each feature's distribution:\n",
    "From the histograms above, we can tell that:\n",
    "1. features with a roughly bell-shaped distribution (i.e. roughly normally distributed): 'Bedtime,' 'Waketime,' 'Sleep Length,' and 'Sleep Quality Level,' indicating a rather even distribution around the average of the distribution, which is good\n",
    "\n",
    "2. feature with an apparently right-skewed distribution: 'Wake Freq,' indicating that the majority of its value is rather small; that is, the subject was not frequently waked by his wife during his sleep\n",
    "\n",
    "3. features with a roughly m-shaped/bimodal distribution: 'Day,' and 'Bedtime Temp,' indicating that these two features are more or less concentrated in two modes\n",
    "\n",
    "Note that the distribution graphs are not meaningful for numerical features converted from categorical objects, since their values only serve as \"labels\" but not their weights, including graphs for 'Percieved Temp,' 'Dream,' 'Waked by Wife,' 'Wife Nocturia,' and 'Slept Well.'"
   ]
  },
  {
   "cell_type": "code",
   "execution_count": 13,
   "metadata": {},
   "outputs": [
    {
     "data": {
      "image/png": "[encoded data removed]",
      "text/plain": [
       "<Figure size 864x720 with 12 Axes>"
      ]
     },
     "metadata": {
      "needs_background": "light"
     },
     "output_type": "display_data"
    }
   ],
   "source": [
    "## checking for outliers\n",
    "# creating a boxplot (3x4 grid) for the distribution of each feature (excluding 'Date')\n",
    "fig, axes = plt.subplots(3, 4, figsize=(12, 10))\n",
    "axes = axes.ravel()\n",
    "\n",
    "for i, feature in enumerate(sleepdata.columns[1:], 1):\n",
    "    ax = axes[i - 1] #skips the first column 'Date'\n",
    "    sns.boxplot(data=sleepdata, x=feature, ax=ax)\n",
    "    ax.set_title(f'Boxplot of {feature}')\n",
    "    ax.set_xlabel('')\n",
    "    ax.set_ylabel('')\n",
    "\n",
    "plt.tight_layout()\n",
    "plt.show()"
   ]
  },
  {
   "cell_type": "markdown",
   "metadata": {},
   "source": [
    "##### Found Outliers: \n",
    "From thhe boxplots above, we can tell that there are outliers in the data in the following features:\n",
    "1. 'Bedtime': outliers are values > 26; <br>\n",
    "2. 'Sleep Length': outliers are values < 6; <br>\n",
    "3. 'Sleep Quality Level': outliers are values > 8\n",
    "\n",
    "I will locate the rows with the outliers for each of these features to inspect them in context and then decide how to handle them. "
   ]
  },
  {
   "cell_type": "code",
   "execution_count": 14,
   "metadata": {},
   "outputs": [
    {
     "name": "stdout",
     "output_type": "stream",
     "text": [
      "Bedtime outlier row:        Date  Day    Bedtime  Waketime  Sleep Length  Bedtime Temp  \\\n",
      "44  6/19/22  7.0  26.333333       7.5      5.166667          29.8   \n",
      "\n",
      "    Perceived Temp  Dream  Wake Freq  Waked by Wife  Wife Nocturia  \\\n",
      "44             1.0    2.0        0.0            3.0            1.0   \n",
      "\n",
      "    Sleep Quality Level  Slept Well  \n",
      "44                  5.0         1.0   \n",
      "\n",
      "Sleep Length outlier row:        Date  Day    Bedtime  Waketime  Sleep Length  Bedtime Temp  \\\n",
      "44  6/19/22  7.0  26.333333       7.5      5.166667          29.8   \n",
      "\n",
      "    Perceived Temp  Dream  Wake Freq  Waked by Wife  Wife Nocturia  \\\n",
      "44             1.0    2.0        0.0            3.0            1.0   \n",
      "\n",
      "    Sleep Quality Level  Slept Well  \n",
      "44                  5.0         1.0   \n",
      "\n",
      "Sleep Quality Level outlier row:        Date  Day  Bedtime  Waketime  Sleep Length  Bedtime Temp  \\\n",
      "11  5/17/22  2.0     22.5  8.333333      9.833333          25.0   \n",
      "\n",
      "    Perceived Temp  Dream  Wake Freq  Waked by Wife  Wife Nocturia  \\\n",
      "11             3.0    2.0        0.0            3.0            1.0   \n",
      "\n",
      "    Sleep Quality Level  Slept Well  \n",
      "11                  9.0         1.0  \n"
     ]
    }
   ],
   "source": [
    "# locating the outliers\n",
    "BT_above_26 = sleepdata['Bedtime'] > 26\n",
    "BT_outliers = sleepdata[BT_above_26]\n",
    "print(\"Bedtime outlier row:\", BT_outliers, \"\\n\")\n",
    "\n",
    "SL_under_6 = sleepdata['Sleep Length'] < 6\n",
    "SL_outliers = sleepdata[SL_under_6]\n",
    "print(\"Sleep Length outlier row:\", SL_outliers, \"\\n\")\n",
    "\n",
    "SqL_above_8 = sleepdata['Sleep Quality Level'] > 8\n",
    "SqL_outliers = sleepdata[SqL_above_8]\n",
    "print(\"Sleep Quality Level outlier row:\", SqL_outliers)"
   ]
  },
  {
   "cell_type": "code",
   "execution_count": 15,
   "metadata": {},
   "outputs": [
    {
     "name": "stdout",
     "output_type": "stream",
     "text": [
      "number of rows before removing this row: 41\n",
      "number of rows after removing this row: 40\n"
     ]
    }
   ],
   "source": [
    "## handling outliers of Bedtime and Sleep Length\n",
    "# removing record for date 6/19/22\n",
    "print(\"number of rows before removing this row:\", len(sleepdata))\n",
    "outlier_row = (sleepdata['Date'] == '6/19/22')\n",
    "sleepdata = sleepdata[~outlier_row]\n",
    "print(\"number of rows after removing this row:\", len(sleepdata))"
   ]
  },
  {
   "cell_type": "markdown",
   "metadata": {},
   "source": [
    "##### Handled the Outliers:\n",
    "After close inspection of the outliers, I discarded the row with sleep record for 'Date' 6/19/22, because it contains both the outliers of features 'Bedtime' and 'Sleep Length,' indicating that it deviates from an average night's sleep experience too much to be considered in the data. However, I\n",
    "did not discard the row with sleep record for 'Date' 5/17/22, since this 'Sleep Quality Level' outlier with value 9 is an output vairable, not an input vairable, which would influence data balance if removed."
   ]
  },
  {
   "cell_type": "code",
   "execution_count": 16,
   "metadata": {},
   "outputs": [
    {
     "data": {
      "image/png": "[encoded data removed]",
      "text/plain": [
       "<Figure size 720x576 with 2 Axes>"
      ]
     },
     "metadata": {
      "needs_background": "light"
     },
     "output_type": "display_data"
    }
   ],
   "source": [
    "## checking for multicollinearity\n",
    "# creating a heatmap for the correlation matrix of the features (excluding 'Date')\n",
    "subset = sleepdata.iloc[:, 1:]  #skips the first column 'Date'\n",
    "corr_matrix = subset.corr()\n",
    "plt.figure(figsize=(10, 8))\n",
    "sns.heatmap(corr_matrix, annot=True, cmap='coolwarm', linewidths=0.5)\n",
    "plt.title('Correlation Matrix of 12 Features (Excluding Date)')\n",
    "plt.show()"
   ]
  },
  {
   "cell_type": "code",
   "execution_count": 17,
   "metadata": {},
   "outputs": [],
   "source": [
    "## handling multicollinearity\n",
    "# removing feature 'SLeep Length'\n",
    "sleepdata = sleepdata.drop('Sleep Length', axis=1)\n",
    "\n",
    "# removing feature 'Sleep Quality Level'\n",
    "sleepdata = sleepdata.drop('Sleep Quality Level', axis=1)"
   ]
  },
  {
   "cell_type": "markdown",
   "metadata": {},
   "source": [
    "##### Found and Handled Multicollinearity:\n",
    "\n",
    "Multicollinearity is found from the correlation matrix above:\n",
    "1. features that exhibit a relatively strong, positive, linear correlation: <br>\n",
    "'Waketime' and 'Sleep Length' (0.53), which is reasonable and expected, because 'Sleep Length' was a linear combination of 'Waketime' and 'Bedtime'; <br>\n",
    "'Sleep Quality Level' and 'Slept Well' (0.79), which is also resonable and expected, since 'Slept Well' is the label converted according to 'Sleep Quality Level' as mentioned in the data description section. <br>\n",
    "\n",
    "2. features that exhibit a relatively strong, negative, linear correlation: <br>\n",
    "'Bedtime' and 'Sleep Length' (-0.75), which is reasonable and expected as well, because 'Sleep Length' was a linear combination of 'Waketime' and 'Bedtime.' <br>\n",
    "\n",
    "Therefore I handled the issue of multicollinearity by removing 'Sleep Length,' the feature relatively strongly correlated with both 'Bedtime' and 'Waketime. I also removed the feature 'Sleep Quality Level,' because it is the score from which the prediction label 'Slept Well' is converted. As for the feature 'Slept Well', I did not remove it but only include it in the output y dataset, seperated from the input X dataset."
   ]
  },
  {
   "cell_type": "code",
   "execution_count": 18,
   "metadata": {},
   "outputs": [
    {
     "name": "stdout",
     "output_type": "stream",
     "text": [
      "number of samples for each class: -1.0    20\n",
      " 1.0    20\n",
      "Name: Slept Well, dtype: int64\n",
      "class ratios: -1.0    0.5\n",
      " 1.0    0.5\n",
      "Name: Slept Well, dtype: float64\n"
     ]
    },
    {
     "data": {
      "image/png": "[encoded data removed]",
      "text/plain": [
       "<Figure size 432x288 with 1 Axes>"
      ]
     },
     "metadata": {
      "needs_background": "light"
     },
     "output_type": "display_data"
    }
   ],
   "source": [
    "## checking if the dataset is balanced or imbalanced\n",
    "# computing number of samples for each class and class ratio\n",
    "class_labels = sleepdata.iloc[:, -1]\n",
    "class_counts = class_labels.value_counts()\n",
    "class_ratios = class_counts/class_counts.sum()\n",
    "print(\"number of samples for each class:\", class_counts)\n",
    "print(\"class ratios:\", class_ratios)\n",
    "\n",
    "# creating class distribution histogram\n",
    "class_labels = sleepdata.iloc[:, -1]\n",
    "class_counts = class_labels.value_counts()\n",
    "plt.bar(class_counts.index, class_counts.values)\n",
    "plt.xlabel('Class Labels')\n",
    "plt.ylabel('Count')\n",
    "plt.title('Class Distribution Histogram')\n",
    "plt.xticks([-1, 1]) \n",
    "plt.tight_layout()"
   ]
  },
  {
   "cell_type": "markdown",
   "metadata": {},
   "source": [
    "##### Balanced Data:\n",
    "From the computed class count (-1 with 20 instances and 1 with 20 instances for a total of 40 instances) and the 50-50 class ratio, we can tell that this dataset is perfectly balanced."
   ]
  },
  {
   "cell_type": "code",
   "execution_count": 19,
   "metadata": {},
   "outputs": [
    {
     "name": "stdout",
     "output_type": "stream",
     "text": [
      "data info after EDA:\n",
      "<class 'pandas.core.frame.DataFrame'>\n",
      "Int64Index: 40 entries, 0 to 45\n",
      "Data columns (total 11 columns):\n",
      " #   Column          Non-Null Count  Dtype  \n",
      "---  ------          --------------  -----  \n",
      " 0   Date            40 non-null     object \n",
      " 1   Day             40 non-null     float64\n",
      " 2   Bedtime         40 non-null     float64\n",
      " 3   Waketime        40 non-null     float64\n",
      " 4   Bedtime Temp    40 non-null     float64\n",
      " 5   Perceived Temp  40 non-null     float64\n",
      " 6   Dream           40 non-null     float64\n",
      " 7   Wake Freq       40 non-null     float64\n",
      " 8   Waked by Wife   40 non-null     float64\n",
      " 9   Wife Nocturia   40 non-null     float64\n",
      " 10  Slept Well      40 non-null     float64\n",
      "dtypes: float64(10), object(1)\n",
      "memory usage: 3.8+ KB\n"
     ]
    }
   ],
   "source": [
    "# summary statistics of the finalized dataset\n",
    "print(\"data info after EDA:\")\n",
    "sleepdata.info()"
   ]
  },
  {
   "cell_type": "code",
   "execution_count": 20,
   "metadata": {},
   "outputs": [
    {
     "name": "stdout",
     "output_type": "stream",
     "text": [
      "data shape after EDA:\n"
     ]
    },
    {
     "data": {
      "text/plain": [
       "(40, 11)"
      ]
     },
     "execution_count": 20,
     "metadata": {},
     "output_type": "execute_result"
    }
   ],
   "source": [
    "print(\"data shape after EDA:\")\n",
    "sleepdata.shape"
   ]
  },
  {
   "cell_type": "markdown",
   "metadata": {},
   "source": [
    "##### EDA summary:\n",
    "\n",
    "1. computed feature simple statistics; <br>\n",
    "2. graphed feature distribution: Note that 'Wake Freq' is right-skewed, which visualized the fact that the majority of its values is small;<br>\n",
    "3. removed outliers: removed row for 'Date' 6/19/22; <br>\n",
    "4. found correlated features: 'Waketime' and 'Sleep Length' (0.53), 'Bedtime' and 'Sleep Length' (-0.75), 'Sleep Quality Level' and 'SLept Well' (0.79); <br>\n",
    "5. handled multicolinearity: removed 'Sleep Length' an 'Sleep Quality Level'; <br>\n",
    "6. confirmed data balance condition: perfectly balanced with 50-50 class ratio; <br>\n",
    "7. finalized dataset data shape: 40 rows * 11 columns; <br>\n",
    "8. finalized feature selection: <br>\n",
    "one feature for the referece of each sleep instance: 'Date'<br>\n",
    "nine features as the input variable X: 'Day,' 'Bedtime,' 'Waketime,' 'Bedtime Temp,' 'Perceived Temp,' 'Dream,' 'Wake Freq,' 'Waked by Wife,' and 'Wife Nocturia' <br>\n",
    "one feature as the output variable y (i.e. the prediction label): 'Slept Well' <br>\n",
    "\n",
    "##### EDA discussion: \n",
    "\n",
    "Removing correlated features resulted in a relatively large decrease in data size, from 41 * 13 = 533 (after data cleaning) to 40 * 11 = 440 data points (after EDA). It might be better if I apply other techniques to mitigate the influence of multicollinearity without removing so much data. I would do some research about this issue next time."
   ]
  },
  {
   "cell_type": "markdown",
   "metadata": {},
   "source": [
    "### IV. Analysis: Model Building, Training, and Testing\n",
    "\n",
    "In this section, I will build five commonly used supervised machine learning models, namely logistic regression, decision tree, adaboost, random forest, and support vector machine models. Then I will try to optimize their performance by doing hyperparameter tuning and gridsearch to find their best parameters. The models will be trained using the training dataset X_train and further tested using the test dataset y_test. Feature importance will also be addressed. Since the dataset is perfectly balanced, I do not need to apply techniques to deal with data imbalance.\n",
    "\n",
    "##### Data Splitting:\n",
    "I decided to follow the custom and perform a 80-20 split of the dataset: <br>\n",
    "input variable X (80% of the original dataset, i.e., 32 rows): values of nine features, namely 'Day,' 'Bedtime,' 'Waketime,' 'Bedtime Temp,' 'Perceived Temp,' 'Dream,' 'Wake Freq,' 'Waked by Wife,' and 'Wife Nocturia;' <br>\n",
    "output variable y (20% of the original dataset, i.e., 8 rows): values of one feature, 'Slept Well'"
   ]
  },
  {
   "cell_type": "code",
   "execution_count": 21,
   "metadata": {},
   "outputs": [
    {
     "name": "stdout",
     "output_type": "stream",
     "text": [
      "data shape: (40, 11) \n",
      "\n",
      "X_train shape: (32, 9)  X_train datatype: <class 'numpy.ndarray'>\n",
      "X_test shape: (8, 9)  y_train datatype: <class 'numpy.ndarray'>\n",
      "y_train shape: (32,)  X_test datatype: <class 'numpy.ndarray'>\n",
      "y_test shape: (8,)  y_test datatype: <class 'numpy.ndarray'>\n"
     ]
    }
   ],
   "source": [
    "# split the dataset into a training set (80%) and a testing set (20%) \n",
    "from sklearn.model_selection import train_test_split\n",
    "X = sleepdata.iloc[:, 1:-1].values # omits 'Date' and Slept Well'\n",
    "y = sleepdata.iloc[:, -1].values #only contains 'Slept Well', the last column\n",
    "X_train, X_test, y_train, y_test = train_test_split(X, y, test_size=0.2, shuffle=True, random_state=42)\n",
    "\n",
    "print(\"data shape:\", sleepdata.shape, \"\\n\")\n",
    "print(\"X_train shape:\", X_train.shape, \" X_train datatype:\", type(X_train))\n",
    "print(\"X_test shape:\", X_test.shape, \" y_train datatype:\", type(y_train))\n",
    "print(\"y_train shape:\", y_train.shape, \" X_test datatype:\", type(X_test))\n",
    "print(\"y_test shape:\", y_test.shape, \" y_test datatype:\", type(y_test))"
   ]
  },
  {
   "cell_type": "code",
   "execution_count": 22,
   "metadata": {},
   "outputs": [
    {
     "name": "stdout",
     "output_type": "stream",
     "text": [
      "    Day    Bedtime  Waketime  Bedtime Temp  Perceived Temp  Dream  Wake Freq  \\\n",
      "0   5.0  23.000000  7.000000          26.3             3.0    2.0        1.0   \n",
      "1   6.0  25.000000  8.500000          26.3             3.0    2.0        1.0   \n",
      "2   7.0  23.333333  7.500000          26.5             2.0    2.0        0.0   \n",
      "3   1.0  25.000000  7.333333          26.5             3.0    2.0        0.0   \n",
      "4   2.0  23.000000  8.333333          26.7             1.0    2.0        1.0   \n",
      "5   3.0  23.000000  7.500000          27.3             3.0    2.0        6.0   \n",
      "9   7.0  22.666667  8.583333          26.3             3.0    2.0        0.0   \n",
      "10  1.0  23.166667  8.000000          25.8             1.0    2.0        0.0   \n",
      "11  2.0  22.500000  8.333333          25.0             3.0    2.0        0.0   \n",
      "12  3.0  23.500000  8.000000          26.3             1.0    2.0        0.0   \n",
      "13  4.0  24.000000  6.500000          26.1             2.0    2.0        0.0   \n",
      "14  5.0  24.000000  8.500000          26.1             3.0    2.0        0.0   \n",
      "15  6.0  24.000000  9.000000          26.1             3.0    2.0        0.0   \n",
      "16  7.0  22.500000  7.500000          25.7             3.0    2.0        1.0   \n",
      "17  1.0  23.500000  7.500000          26.4             3.0    1.0        0.0   \n",
      "18  2.0  22.166667  6.000000          26.5             3.0    2.0        0.0   \n",
      "19  3.0  23.000000  8.000000          26.3             3.0    2.0        0.0   \n",
      "20  4.0  24.166667  8.666667          26.4             3.0    2.0        0.0   \n",
      "22  6.0  24.500000  7.000000          26.5             3.0    2.0        0.0   \n",
      "23  7.0  23.500000  8.666667          26.8             3.0    2.0        0.0   \n",
      "24  1.0  23.500000  8.000000          27.0             3.0    2.0        0.0   \n",
      "25  2.0  23.666667  7.500000          28.0             3.0    2.0        0.0   \n",
      "26  3.0  22.666667  8.500000          28.7             1.0    2.0        0.0   \n",
      "27  4.0  24.500000  8.000000          28.0             3.0    2.0        0.0   \n",
      "28  5.0  22.000000  7.000000          29.0             3.0    2.0        1.0   \n",
      "29  6.0  24.666667  8.000000          29.4             1.0    1.0        1.0   \n",
      "30  7.0  24.500000  7.500000          29.8             3.0    2.0        0.0   \n",
      "31  1.0  23.833333  7.500000          29.4             3.0    2.0        0.0   \n",
      "32  2.0  23.500000  8.166667          29.8             3.0    2.0        1.0   \n",
      "34  4.0  24.666667  8.000000          29.0             3.0    2.0        0.0   \n",
      "35  5.0  22.833333  8.333333          28.0             3.0    2.0        0.0   \n",
      "36  6.0  24.666667  9.000000          28.0             1.0    2.0        3.0   \n",
      "37  7.0  24.500000  9.000000          28.0             3.0    2.0        0.0   \n",
      "38  1.0  23.500000  7.500000          28.0             3.0    2.0        0.0   \n",
      "39  2.0  22.500000  8.000000          29.0             1.0    1.0        1.0   \n",
      "40  3.0  24.000000  8.500000          29.0             3.0    2.0        0.0   \n",
      "41  4.0  24.000000  8.000000          29.0             3.0    2.0        1.0   \n",
      "42  5.0  23.500000  7.500000          29.0             3.0    2.0        0.0   \n",
      "43  6.0  23.500000  8.000000          29.7             3.0    2.0        0.0   \n",
      "45  1.0  23.500000  9.166667          30.1             1.0    2.0        0.0   \n",
      "\n",
      "    Waked by Wife  \n",
      "0             2.0  \n",
      "1             1.0  \n",
      "2             3.0  \n",
      "3             3.0  \n",
      "4             1.0  \n",
      "5             3.0  \n",
      "9             3.0  \n",
      "10            3.0  \n",
      "11            3.0  \n",
      "12            3.0  \n",
      "13            3.0  \n",
      "14            3.0  \n",
      "15            3.0  \n",
      "16            2.0  \n",
      "17            1.0  \n",
      "18            2.0  \n",
      "19            3.0  \n",
      "20            3.0  \n",
      "22            3.0  \n",
      "23            3.0  \n",
      "24            3.0  \n",
      "25            3.0  \n",
      "26            3.0  \n",
      "27            3.0  \n",
      "28            2.0  \n",
      "29            2.0  \n",
      "30            3.0  \n",
      "31            3.0  \n",
      "32            2.0  \n",
      "34            3.0  \n",
      "35            3.0  \n",
      "36            3.0  \n",
      "37            3.0  \n",
      "38            3.0  \n",
      "39            3.0  \n",
      "40            3.0  \n",
      "41            2.0  \n",
      "42            3.0  \n",
      "43            3.0  \n",
      "45            3.0  \n"
     ]
    }
   ],
   "source": [
    "# double checks X\n",
    "X = sleepdata.iloc[:, 1:-2]\n",
    "print(X)"
   ]
  },
  {
   "cell_type": "code",
   "execution_count": 23,
   "metadata": {},
   "outputs": [
    {
     "name": "stdout",
     "output_type": "stream",
     "text": [
      "0     1.0\n",
      "1     1.0\n",
      "2    -1.0\n",
      "3    -1.0\n",
      "4     1.0\n",
      "5    -1.0\n",
      "9     1.0\n",
      "10    1.0\n",
      "11    1.0\n",
      "12   -1.0\n",
      "13    1.0\n",
      "14    1.0\n",
      "15    1.0\n",
      "16   -1.0\n",
      "17   -1.0\n",
      "18   -1.0\n",
      "19   -1.0\n",
      "20    1.0\n",
      "22    1.0\n",
      "23    1.0\n",
      "24    1.0\n",
      "25    1.0\n",
      "26   -1.0\n",
      "27    1.0\n",
      "28    1.0\n",
      "29   -1.0\n",
      "30   -1.0\n",
      "31    1.0\n",
      "32    1.0\n",
      "34    1.0\n",
      "35   -1.0\n",
      "36   -1.0\n",
      "37   -1.0\n",
      "38   -1.0\n",
      "39   -1.0\n",
      "40   -1.0\n",
      "41    1.0\n",
      "42   -1.0\n",
      "43   -1.0\n",
      "45   -1.0\n",
      "Name: Slept Well, dtype: float64\n"
     ]
    }
   ],
   "source": [
    "# double checks y\n",
    "y = sleepdata.iloc[:, -1]\n",
    "print(y)"
   ]
  },
  {
   "cell_type": "markdown",
   "metadata": {},
   "source": [
    "#### 1. Logistic Regression Model"
   ]
  },
  {
   "cell_type": "code",
   "execution_count": 24,
   "metadata": {},
   "outputs": [
    {
     "name": "stdout",
     "output_type": "stream",
     "text": [
      "LogisticRegression(C=1.0, class_weight=None, dual=False, fit_intercept=True,\n",
      "                   intercept_scaling=1, l1_ratio=None, max_iter=100,\n",
      "                   multi_class='auto', n_jobs=None, penalty='l2',\n",
      "                   random_state=1234, solver='lbfgs', tol=0.0001, verbose=0,\n",
      "                   warm_start=False)\n"
     ]
    }
   ],
   "source": [
    "# build and train a logistic regression model\n",
    "from sklearn.linear_model import LogisticRegression\n",
    "LG = LogisticRegression(random_state=1234)\n",
    "print(LG)"
   ]
  },
  {
   "cell_type": "code",
   "execution_count": 25,
   "metadata": {},
   "outputs": [
    {
     "name": "stdout",
     "output_type": "stream",
     "text": [
      "LG_best_params: {'C': 10, 'penalty': 'l1', 'solver': 'liblinear'} \n",
      "\n",
      "LG_best_model: LogisticRegression(C=10, class_weight=None, dual=False, fit_intercept=True,\n",
      "                   intercept_scaling=1, l1_ratio=None, max_iter=100,\n",
      "                   multi_class='auto', n_jobs=None, penalty='l1',\n",
      "                   random_state=1234, solver='liblinear', tol=0.0001, verbose=0,\n",
      "                   warm_start=False)\n"
     ]
    }
   ],
   "source": [
    "# logistic regression hyperparameter tuning\n",
    "# 5-fold cross-validation: GridSearch\n",
    "# assess model performance for different hyperparameter combinations\n",
    "\n",
    "from sklearn.model_selection import GridSearchCV\n",
    "param_grid = {\n",
    "    'C': [0.1, 1, 10],             #regularization parameter\n",
    "    'penalty': ['l1', 'l2'],       #penalty (L1 or L2 regularization)\n",
    "    'solver': ['liblinear', 'lbfgs']  #solver for optimization\n",
    "}\n",
    "grid_search = GridSearchCV(estimator=LG, param_grid=param_grid, cv=5, scoring='accuracy')\n",
    "grid_search.fit(X_train, y_train)\n",
    "LG_best_params = grid_search.best_params_\n",
    "LG_best_model = grid_search.best_estimator_\n",
    "print(\"LG_best_params:\", LG_best_params, \"\\n\")\n",
    "print(\"LG_best_model:\", LG_best_model)"
   ]
  },
  {
   "cell_type": "code",
   "execution_count": 26,
   "metadata": {},
   "outputs": [],
   "source": [
    "# use the best hyperparameters to rebuild the logistic regression model\n",
    "LG = LG_best_model"
   ]
  },
  {
   "cell_type": "code",
   "execution_count": 27,
   "metadata": {},
   "outputs": [
    {
     "name": "stdout",
     "output_type": "stream",
     "text": [
      "LG_y_pred: [-1.  1.  1. -1.  1.  1. -1.  1.]\n"
     ]
    }
   ],
   "source": [
    "# make predictions from the test data using the trained logistic regression model\n",
    "LG_y_pred = LG.predict(X_test)\n",
    "print(\"LG_y_pred:\", LG_y_pred)"
   ]
  },
  {
   "cell_type": "code",
   "execution_count": 28,
   "metadata": {},
   "outputs": [
    {
     "name": "stdout",
     "output_type": "stream",
     "text": [
      "LG_feature_importances:\n",
      "Dream:6.47462894673233\n",
      "Wife Nocturia:2.6711073053183023\n",
      "Waked by Wife:-1.6130707049971449\n",
      "Perceived Temp:0.9854700857342251\n",
      "Wake Freq:-0.5857745563246823\n",
      "Bedtime Temp:-0.40883372960497283\n",
      "Day:-0.24620552270474175\n",
      "Bedtime:-0.047789647840798415\n",
      "Waketime:-0.011710726833447075\n"
     ]
    }
   ],
   "source": [
    "# investigate feature importance of the trained logistic regression model\n",
    "coefficients = LG.coef_[0]\n",
    "\n",
    "selected_feature_columns = ['Day', 'Bedtime', 'Waketime', 'Bedtime Temp', \n",
    "                            'Perceived Temp', 'Dream', 'Wake Freq', 'Waked by Wife', 'Wife Nocturia']\n",
    "feature_names = sleepdata[selected_feature_columns]\n",
    "\n",
    "LG_feature_importances = list(zip(feature_names, coefficients))\n",
    "LG_feature_importances.sort(key=lambda x: abs(x[1]), reverse=True)\n",
    "\n",
    "print(\"LG_feature_importances:\")\n",
    "for feature, coef in LG_feature_importances:\n",
    "    print(f\"{feature}:{coef}\")"
   ]
  },
  {
   "cell_type": "markdown",
   "metadata": {},
   "source": [
    "##### Logistic Regression Model Summary:\n",
    "\n",
    "I built a logistic regression model (LG) and then done a 5-fold cross-validation using GridSearchCV to select the best hyperparameter combinations to optimize its accuracy. Then I fitted the training dataset to the best LG model: <br>\n",
    "1. LG_best_params: {'C': 10, 'penalty': 'l1', 'solver': 'liblinear'} \n",
    "2. LG_best_model: LogisticRegression(C=10, class_weight=None, dual=False, fit_intercept=True,\n",
    "                   intercept_scaling=1, l1_ratio=None, max_iter=100,\n",
    "                   multi_class='auto', n_jobs=None, penalty='l1',\n",
    "                   random_state=1234, solver='liblinear', tol=0.0001, verbose=0,\n",
    "                   warm_start=False)\n",
    "\n",
    "The model was tested using the test data set, which generated the predicted values that will be used in the model evaluation section later:  \n",
    "3. LG_y_pred: [-1.  1.  1. -1.  1.  1. -1.  1.]\n",
    "\n",
    "I also inspected feature importance of the model, and found out that its most important feature is:\n",
    "4. 'Dream,' with a coefficient of about 6.47, the highest among all other features."
   ]
  },
  {
   "cell_type": "markdown",
   "metadata": {},
   "source": [
    "#### 2. Decision Tree Model"
   ]
  },
  {
   "cell_type": "code",
   "execution_count": 29,
   "metadata": {},
   "outputs": [
    {
     "name": "stdout",
     "output_type": "stream",
     "text": [
      "DT before hyperparameter tuning DecisionTreeClassifier(ccp_alpha=0.0, class_weight=None, criterion='gini',\n",
      "                       max_depth=None, max_features=None, max_leaf_nodes=None,\n",
      "                       min_impurity_decrease=0.0, min_impurity_split=None,\n",
      "                       min_samples_leaf=1, min_samples_split=2,\n",
      "                       min_weight_fraction_leaf=0.0, presort='deprecated',\n",
      "                       random_state=1234, splitter='best')\n"
     ]
    }
   ],
   "source": [
    "# build and train a decision tree model\n",
    "from sklearn.tree import DecisionTreeClassifier\n",
    "DT = DecisionTreeClassifier(random_state=1234)\n",
    "DT.fit(X_train, y_train)\n",
    "print(\"DT before hyperparameter tuning\", DT)"
   ]
  },
  {
   "cell_type": "code",
   "execution_count": 30,
   "metadata": {},
   "outputs": [
    {
     "data": {
      "image/png": "[encoded data removed]",
      "text/plain": [
       "<Figure size 432x288 with 1 Axes>"
      ]
     },
     "metadata": {
      "needs_background": "light"
     },
     "output_type": "display_data"
    }
   ],
   "source": [
    "# decision tree hyperparameter tuning: ccp_alpha\n",
    "# tune the cost complexity pruning parameter ccp_alpha\n",
    "# to improve model accuracy\n",
    "\n",
    "path = DT.cost_complexity_pruning_path(X_train,y_train)\n",
    "ccp_alphas, impurities = path.ccp_alphas, path.impurities\n",
    "\n",
    "clfs = []\n",
    "for ccp_alpha in ccp_alphas:\n",
    "    clf = DecisionTreeClassifier(ccp_alpha=ccp_alpha, random_state=1234)\n",
    "    clf.fit(X_train, y_train)\n",
    "    clfs.append(clf)\n",
    "\n",
    "train_scores = []\n",
    "test_scores = []\n",
    "train_scores = [clf.score(X_train, y_train) for clf in clfs]\n",
    "test_scores = [clf.score(X_test, y_test) for clf in clfs]\n",
    "\n",
    "fig, ax = plt.subplots()\n",
    "ax.set_xlabel(\"ccp_alpha\")\n",
    "ax.set_ylabel(\"accuracy\")\n",
    "ax.set_title(\"accuracy vs ccp_alpha for training and testing sets\")\n",
    "ax.plot(ccp_alphas, train_scores, marker='o', label=\"train\",\n",
    "        drawstyle=\"steps-post\")\n",
    "ax.plot(ccp_alphas, test_scores, marker='o', label=\"test\",\n",
    "        drawstyle=\"steps-post\")\n",
    "ax.legend()\n",
    "plt.show()"
   ]
  },
  {
   "cell_type": "code",
   "execution_count": 31,
   "metadata": {},
   "outputs": [
    {
     "name": "stdout",
     "output_type": "stream",
     "text": [
      "DT_best_params: {'ccp_alpha': 0.0, 'criterion': 'gini', 'max_depth': 5, 'min_samples_leaf': 1, 'min_samples_split': 2} \n",
      "\n",
      "DT_best_model: DecisionTreeClassifier(ccp_alpha=0.0, class_weight=None, criterion='gini',\n",
      "                       max_depth=5, max_features=None, max_leaf_nodes=None,\n",
      "                       min_impurity_decrease=0.0, min_impurity_split=None,\n",
      "                       min_samples_leaf=1, min_samples_split=2,\n",
      "                       min_weight_fraction_leaf=0.0, presort='deprecated',\n",
      "                       random_state=1234, splitter='best')\n"
     ]
    }
   ],
   "source": [
    "# decision tree hyperparameter tuning\n",
    "# 5-fold cross-validation: GridSearch\n",
    "# assess model performance for different hyperparameter combinations\n",
    "\n",
    "from sklearn.model_selection import GridSearchCV\n",
    "param_grid = {\n",
    "    'ccp_alpha': [0.00, 0.01, 0.02], #cost complexity pruning parameter alpha\n",
    "    'max_depth': [None, 1, 2, 3, 5, 7, 9], #maximum depth of the tree\n",
    "    'min_samples_split': [1, 2, 3, 5, 7], #minimum samples required to split an internal node\n",
    "    'min_samples_leaf': [1, 2, 4], #minimum samples required in a leaf node\n",
    "    'criterion': ['gini', 'entropy'] #splitting criterion\n",
    "}\n",
    "grid_search = GridSearchCV(estimator=DT, param_grid=param_grid, cv=5, scoring='accuracy')\n",
    "grid_search.fit(X_train, y_train)\n",
    "DT_best_params = grid_search.best_params_\n",
    "DT_best_model = grid_search.best_estimator_\n",
    "print(\"DT_best_params:\", DT_best_params, \"\\n\")\n",
    "print(\"DT_best_model:\", DT_best_model)"
   ]
  },
  {
   "cell_type": "code",
   "execution_count": 32,
   "metadata": {},
   "outputs": [],
   "source": [
    "# use the best hyperparameters to rebuild the decision tree model\n",
    "DT = DT_best_model"
   ]
  },
  {
   "cell_type": "code",
   "execution_count": 33,
   "metadata": {},
   "outputs": [
    {
     "name": "stdout",
     "output_type": "stream",
     "text": [
      "DT_y_pred: [ 1.  1.  1.  1. -1.  1. -1.  1.]\n"
     ]
    }
   ],
   "source": [
    "# make predictions from the test data using the trained decision tree model\n",
    "DT_y_pred = DT.predict(X_test)\n",
    "print(\"DT_y_pred:\", DT_y_pred)"
   ]
  },
  {
   "cell_type": "code",
   "execution_count": 34,
   "metadata": {},
   "outputs": [
    {
     "name": "stdout",
     "output_type": "stream",
     "text": [
      "DT_feature_importances: [0.16666667 0.0462963  0.33366402 0.31001984 0.14335317 0.\n",
      " 0.         0.         0.        ]\n"
     ]
    }
   ],
   "source": [
    "# investigate feature importance of the trained decision tree model\n",
    "# Gini importance scores: the importance of each feature at each split\n",
    "DT_feature_importances = DT.feature_importances_\n",
    "print(\"DT_feature_importances:\", DT_feature_importances)"
   ]
  },
  {
   "cell_type": "markdown",
   "metadata": {},
   "source": [
    "##### Decision Tree Model Summary:\n",
    "\n",
    "I built a decision tree model (DT) and then done hyperparameter tuning for ccp_alpha, its cost complexity pruning parameter and a 5-fold cross-validation using GridSearchCV to select the best hyperparameter combinations to optimize its accuracy. Then I fitted the training dataset to the best DT model:\n",
    "1. From the 'accuracy vs ccp_alpha for training and testing sets' plot, we can tell that the best ccp_alpha is 0.00, which was confirmed by DT_best_params, an output of GridSearchCV.\n",
    "2. DT_best_params: {'ccp_alpha': 0.0, 'criterion': 'gini', 'max_depth': 5, 'min_samples_leaf': 1, 'min_samples_split': 2}\n",
    "3. DT_best_model: DecisionTreeClassifier(ccp_alpha=0.0, class_weight=None, criterion='gini',\n",
    "                       max_depth=5, max_features=None, max_leaf_nodes=None,\n",
    "                       min_impurity_decrease=0.0, min_impurity_split=None,\n",
    "                       min_samples_leaf=1, min_samples_split=2,\n",
    "                       min_weight_fraction_leaf=0.0, presort='deprecated',\n",
    "                       random_state=1234, splitter='best')\n",
    "\n",
    "The model was tested using the test data set, which generated the predicted values that will be used in the model evaluation section later:\n",
    "4. DT_y_pred: [ 1.  1.  1.  1. -1.  1. -1.  1.]\n",
    "\n",
    "I also inspected feature importance of the model, and found out that its most important features are:\n",
    "5. 'Waketime' and 'Bedtime Temp' with Gini importance scores (the importance of the feature at each split) about 0.33 and 0.31 respectively, which are much higher than all other features."
   ]
  },
  {
   "cell_type": "markdown",
   "metadata": {},
   "source": [
    "#### 3. Adaboost Model"
   ]
  },
  {
   "cell_type": "code",
   "execution_count": 35,
   "metadata": {},
   "outputs": [],
   "source": [
    "# build and train an adaboost model using the trained, hyperparameter-tuned DT as its base learner\n",
    "from sklearn.ensemble import AdaBoostClassifier\n",
    "AdaB = AdaBoostClassifier(base_estimator=DT, random_state=1234)"
   ]
  },
  {
   "cell_type": "code",
   "execution_count": 36,
   "metadata": {},
   "outputs": [
    {
     "name": "stdout",
     "output_type": "stream",
     "text": [
      "AdaB_best_params: {'algorithm': 'SAMME.R', 'learning_rate': 1.0, 'n_estimators': 10} \n",
      "\n",
      "AdaB_best_model: AdaBoostClassifier(algorithm='SAMME.R',\n",
      "                   base_estimator=DecisionTreeClassifier(ccp_alpha=0.0,\n",
      "                                                         class_weight=None,\n",
      "                                                         criterion='gini',\n",
      "                                                         max_depth=5,\n",
      "                                                         max_features=None,\n",
      "                                                         max_leaf_nodes=None,\n",
      "                                                         min_impurity_decrease=0.0,\n",
      "                                                         min_impurity_split=None,\n",
      "                                                         min_samples_leaf=1,\n",
      "                                                         min_samples_split=2,\n",
      "                                                         min_weight_fraction_leaf=0.0,\n",
      "                                                         presort='deprecated',\n",
      "                                                         random_state=1234,\n",
      "                                                         splitter='best'),\n",
      "                   learning_rate=1.0, n_estimators=10, random_state=1234)\n"
     ]
    }
   ],
   "source": [
    "# adaboost hyperparameter tuning\n",
    "# 5-fold cross-validation: GridSearch\n",
    "# assess model performance for different hyperparameter combinations\n",
    "param_grid = {\n",
    "    'n_estimators': [10, 20, 30, 40, 50, 60, 100], #number of weak learners (Decision Trees)\n",
    "    'learning_rate': [0.000001, 0.00001, 0.0001, 0.001, 0.01, 0.1, 1.0],\n",
    "    'algorithm': ['SAMME', 'SAMME.R']\n",
    "}\n",
    "\n",
    "grid_search = GridSearchCV(estimator=AdaB, param_grid=param_grid, cv=5, scoring='accuracy')\n",
    "grid_search.fit(X_train, y_train)\n",
    "AdaB_best_params = grid_search.best_params_\n",
    "AdaB_best_model = grid_search.best_estimator_\n",
    "print(\"AdaB_best_params:\", AdaB_best_params, \"\\n\")\n",
    "print(\"AdaB_best_model:\", AdaB_best_model)"
   ]
  },
  {
   "cell_type": "code",
   "execution_count": 37,
   "metadata": {},
   "outputs": [],
   "source": [
    "# use the best hyperparameters to rebuild the adaboost model\n",
    "AdaB = AdaB_best_model"
   ]
  },
  {
   "cell_type": "code",
   "execution_count": 38,
   "metadata": {},
   "outputs": [
    {
     "name": "stdout",
     "output_type": "stream",
     "text": [
      "AdaB_y_pred: [ 1.  1.  1. -1.  1.  1.  1.  1.]\n"
     ]
    }
   ],
   "source": [
    "# make predictions from the test data using the trained adaboost model\n",
    "AdaB_y_pred = AdaB.predict(X_test)\n",
    "print(\"AdaB_y_pred:\", AdaB_y_pred)"
   ]
  },
  {
   "cell_type": "code",
   "execution_count": 39,
   "metadata": {},
   "outputs": [
    {
     "name": "stdout",
     "output_type": "stream",
     "text": [
      "DT_feature_importances: [1.48061714e-01 7.80556668e-02 3.82046676e-01 2.36805564e-01\n",
      " 1.19602324e-01 1.31266273e-02 2.41221718e-05 2.22773056e-02\n",
      " 0.00000000e+00]\n"
     ]
    }
   ],
   "source": [
    "# investigate feature importance of the trained adaboost model\n",
    "# Gini importance scores: the importance of each feature at each split\n",
    "AdaB_feature_importances = AdaB.feature_importances_\n",
    "print(\"DT_feature_importances:\", AdaB_feature_importances)"
   ]
  },
  {
   "cell_type": "markdown",
   "metadata": {},
   "source": [
    "##### Adaboost Model Summary:\n",
    "I built an adaboost model (AdaB) and then done a 5-fold cross-validation using GridSearchCV to select the best hyperparameter combinations to optimize its accuracy. Then I fitted the training dataset to the best AdaB model:\n",
    "1. AdaB_best_params: {'algorithm': 'SAMME.R', 'learning_rate': 1.0, 'n_estimators': 10} \n",
    "2. AdaB_best_model: AdaBoostClassifier(algorithm='SAMME.R',\n",
    "                   base_estimator=DT, #the decision tree model I built and optimized\n",
    "                   learning_rate=1.0, n_estimators=10, random_state=1234)\n",
    "\n",
    "The model was tested using the test data set, which generated the predicted values that will be used in the model evaluation section later:\n",
    "3. AdaB_y_pred: [ 1.  1.  1. -1.  1.  1.  1.  1.]\n",
    "\n",
    "I also inspected feature importance of the model, and found out that its most important feature is:\n",
    "4. 'Waketime' with Gini importance scores (the importance of the feature at each split) about 0.38, which is the highest among and much higher than all other features."
   ]
  },
  {
   "cell_type": "markdown",
   "metadata": {},
   "source": [
    "#### 4. Random Forest Model"
   ]
  },
  {
   "cell_type": "code",
   "execution_count": 40,
   "metadata": {},
   "outputs": [
    {
     "name": "stdout",
     "output_type": "stream",
     "text": [
      "RandomForestClassifier(bootstrap=True, ccp_alpha=0.0, class_weight=None,\n",
      "                       criterion='gini', max_depth=None, max_features='auto',\n",
      "                       max_leaf_nodes=None, max_samples=None,\n",
      "                       min_impurity_decrease=0.0, min_impurity_split=None,\n",
      "                       min_samples_leaf=1, min_samples_split=2,\n",
      "                       min_weight_fraction_leaf=0.0, n_estimators=100,\n",
      "                       n_jobs=None, oob_score=False, random_state=1234,\n",
      "                       verbose=0, warm_start=False)\n"
     ]
    }
   ],
   "source": [
    "# build and train a random forest model\n",
    "from sklearn.ensemble import RandomForestClassifier\n",
    "RF = RandomForestClassifier(random_state=1234)\n",
    "print(RF)"
   ]
  },
  {
   "cell_type": "code",
   "execution_count": 41,
   "metadata": {},
   "outputs": [
    {
     "name": "stdout",
     "output_type": "stream",
     "text": [
      "RF_best_params: {'criterion': 'gini', 'max_depth': 5, 'min_samples_leaf': 1, 'min_samples_split': 3, 'n_estimators': 150} \n",
      "\n",
      "RF_best_model: RandomForestClassifier(bootstrap=True, ccp_alpha=0.0, class_weight=None,\n",
      "                       criterion='gini', max_depth=5, max_features='auto',\n",
      "                       max_leaf_nodes=None, max_samples=None,\n",
      "                       min_impurity_decrease=0.0, min_impurity_split=None,\n",
      "                       min_samples_leaf=1, min_samples_split=3,\n",
      "                       min_weight_fraction_leaf=0.0, n_estimators=150,\n",
      "                       n_jobs=None, oob_score=False, random_state=1234,\n",
      "                       verbose=0, warm_start=False)\n"
     ]
    }
   ],
   "source": [
    "# random forest hyperparameter tuning\n",
    "# 5-fold cross-validation: GridSearch\n",
    "# assess model performance for different hyperparameter combinations\n",
    "\n",
    "param_grid = {\n",
    "    'n_estimators': [150, 200, 250], #number of trees in the forest (Decision Tree)\n",
    "    'max_depth': [1, 3, 5], #maximum depth of each tree\n",
    "    'min_samples_split': [1, 2, 3], #minimum samples required to split an internal node\n",
    "    'min_samples_leaf': [1, 2, 3], #minimum samples required in a leaf node\n",
    "    'criterion': ['gini', 'entropy'] #splitting criterion\n",
    "}\n",
    "\n",
    "grid_search = GridSearchCV(estimator=RF, param_grid=param_grid, cv=5, scoring='accuracy')\n",
    "grid_search.fit(X_train, y_train)\n",
    "RF_best_params = grid_search.best_params_\n",
    "RF_best_model = grid_search.best_estimator_\n",
    "print(\"RF_best_params:\", RF_best_params, \"\\n\")\n",
    "print(\"RF_best_model:\", RF_best_model)"
   ]
  },
  {
   "cell_type": "code",
   "execution_count": 42,
   "metadata": {},
   "outputs": [],
   "source": [
    "# use the best hyperparameters to rebuild the random forest model\n",
    "RF = RF_best_model"
   ]
  },
  {
   "cell_type": "code",
   "execution_count": 43,
   "metadata": {},
   "outputs": [
    {
     "name": "stdout",
     "output_type": "stream",
     "text": [
      "RF_y_pred: [-1.  1.  1. -1. -1.  1. -1. -1.]\n"
     ]
    }
   ],
   "source": [
    "# make predictions from the test data using the trained random forest model\n",
    "RF_y_pred = RF.predict(X_test)\n",
    "print(\"RF_y_pred:\", RF_y_pred)"
   ]
  },
  {
   "cell_type": "code",
   "execution_count": 44,
   "metadata": {},
   "outputs": [
    {
     "name": "stdout",
     "output_type": "stream",
     "text": [
      "RF_feature_importances: [0.18316057 0.14934339 0.19948853 0.22026608 0.09156831 0.05076202\n",
      " 0.03793533 0.03616324 0.03131254]\n"
     ]
    }
   ],
   "source": [
    "# investigate feature importance of the trained random forest model\n",
    "# Gini importance scores: the importance of each feature at each split\n",
    "RF_feature_importances = RF.feature_importances_\n",
    "print(\"RF_feature_importances:\", RF_feature_importances)"
   ]
  },
  {
   "cell_type": "markdown",
   "metadata": {},
   "source": [
    "##### Random Forest Model Summary:\n",
    "I built a random forest model (RF) and then done a 5-fold cross-validation using GridSearchCV to select the best hyperparameter combinations to optimize its accuracy. Then I fitted the training dataset to the best RF model:\n",
    "1. RF_best_params: {'criterion': 'gini', 'max_depth': 5, 'min_samples_leaf': 1, 'min_samples_split': 3, 'n_estimators': 150}\n",
    "2. RF_best_model: RandomForestClassifier(bootstrap=True, ccp_alpha=0.0, class_weight=None,\n",
    "                       criterion='gini', max_depth=5, max_features='auto',\n",
    "                       max_leaf_nodes=None, max_samples=None,\n",
    "                       min_impurity_decrease=0.0, min_impurity_split=None,\n",
    "                       min_samples_leaf=1, min_samples_split=3,\n",
    "                       min_weight_fraction_leaf=0.0, n_estimators=150,\n",
    "                       n_jobs=None, oob_score=False, random_state=1234,\n",
    "                       verbose=0, warm_start=False)\n",
    "\n",
    "The model was tested using the test data set, which generated the predicted values that will be used in the model evaluation section later:\n",
    "3. RF_y_pred: [-1.  1.  1. -1. -1.  1. -1. -1.]\n",
    "\n",
    "I also inspected feature importance of the model, and found out that its most important features are:\n",
    "4. 'Bedtime Temp,''Waketime,' and 'Day' with Gini importance scores (the importance of the feature at each split) about 0.22, 0.20, 0.18 respectively, which are much higher than all other features."
   ]
  },
  {
   "cell_type": "markdown",
   "metadata": {},
   "source": [
    "#### 5. Support Vector Machine Model"
   ]
  },
  {
   "cell_type": "code",
   "execution_count": 45,
   "metadata": {},
   "outputs": [
    {
     "name": "stdout",
     "output_type": "stream",
     "text": [
      "SVC(C=1.0, break_ties=False, cache_size=200, class_weight=None, coef0=0.0,\n",
      "    decision_function_shape='ovr', degree=3, gamma='scale', kernel='rbf',\n",
      "    max_iter=-1, probability=True, random_state=1234, shrinking=True, tol=0.001,\n",
      "    verbose=False)\n"
     ]
    }
   ],
   "source": [
    "# build and train a support vector machine model\n",
    "from sklearn.svm import SVC\n",
    "SVM = SVC(random_state=1234, probability=True)\n",
    "print(SVM)"
   ]
  },
  {
   "cell_type": "code",
   "execution_count": 46,
   "metadata": {},
   "outputs": [
    {
     "name": "stdout",
     "output_type": "stream",
     "text": [
      "SVM_best_params: {'C': 10, 'gamma': 'auto', 'kernel': 'linear'} \n",
      "\n",
      "SVM_best_model: SVC(C=10, break_ties=False, cache_size=200, class_weight=None, coef0=0.0,\n",
      "    decision_function_shape='ovr', degree=3, gamma='auto', kernel='linear',\n",
      "    max_iter=-1, probability=True, random_state=1234, shrinking=True, tol=0.001,\n",
      "    verbose=False)\n"
     ]
    }
   ],
   "source": [
    "# support vector machine hyperparameter tuning\n",
    "# 5-fold cross-validation: GridSearch\n",
    "# assess model performance for different hyperparameter combinations\n",
    "\n",
    "param_grid = {\n",
    "    'C': [10, 20, 30],       #regularization parameter\n",
    "    'kernel': ['linear', 'rbf'],  #kernel type\n",
    "    'gamma': ['auto', 0.00001, 0.0001, 0.001]  #kernel coefficient for 'rbf'\n",
    "}\n",
    "\n",
    "grid_search = GridSearchCV(estimator=SVM, param_grid=param_grid, cv=5, scoring='accuracy')\n",
    "grid_search.fit(X_train, y_train)\n",
    "SVM_best_params = grid_search.best_params_\n",
    "SVM_best_model = grid_search.best_estimator_\n",
    "print(\"SVM_best_params:\", SVM_best_params, \"\\n\")\n",
    "print(\"SVM_best_model:\", SVM_best_model)"
   ]
  },
  {
   "cell_type": "code",
   "execution_count": 47,
   "metadata": {},
   "outputs": [],
   "source": [
    "# use the best hyperparameters to rebuild the support vector machine model\n",
    "SVM = SVM_best_model"
   ]
  },
  {
   "cell_type": "code",
   "execution_count": 48,
   "metadata": {},
   "outputs": [
    {
     "name": "stdout",
     "output_type": "stream",
     "text": [
      "SVM_y_pred: [-1.  1.  1. -1.  1.  1. -1.  1.]\n"
     ]
    }
   ],
   "source": [
    "# make predictions from the test data using the trained support vector machine model\n",
    "SVM_y_pred = SVM.predict(X_test)\n",
    "print(\"SVM_y_pred:\", SVM_y_pred)"
   ]
  },
  {
   "cell_type": "code",
   "execution_count": 49,
   "metadata": {},
   "outputs": [
    {
     "name": "stdout",
     "output_type": "stream",
     "text": [
      "SVM_feature_importances:\n",
      "Dream:5.320083883049152\n",
      "Waked by Wife:-1.300727360878609\n",
      "Perceived Temp:0.9535587886809189\n",
      "Wife Nocturia:0.6639640341059101\n",
      "Waketime:-0.5710103458234599\n",
      "Bedtime:0.4070085951609457\n",
      "Bedtime Temp:-0.3173587041180781\n",
      "Wake Freq:-0.2788848040998477\n",
      "Day:-0.2768599738535453\n"
     ]
    }
   ],
   "source": [
    "# investigate feature importance of the trained support vector machine model\n",
    "coefficients = SVM.coef_[0]\n",
    "\n",
    "selected_feature_columns = ['Day', 'Bedtime', 'Waketime', 'Bedtime Temp', \n",
    "                            'Perceived Temp', 'Dream', 'Wake Freq', 'Waked by Wife', 'Wife Nocturia']\n",
    "feature_names = sleepdata[selected_feature_columns]\n",
    "\n",
    "SVM_feature_importances = list(zip(feature_names, coefficients))\n",
    "SVM_feature_importances.sort(key=lambda x: abs(x[1]), reverse=True)\n",
    "\n",
    "print(\"SVM_feature_importances:\")\n",
    "for feature, coef in SVM_feature_importances:\n",
    "    print(f\"{feature}:{coef}\")"
   ]
  },
  {
   "cell_type": "markdown",
   "metadata": {},
   "source": [
    "##### Support Vector Machine Model Summary:\n",
    "\n",
    "I built a support vector machine model (SVM) and then done a 5-fold cross-validation using GridSearchCV to select the best hyperparameter combinations to optimize its accuracy. Then I fitted the training dataset to the best LG model: <br>\n",
    "1. SVM_best_params: {'C': 10, 'gamma': 'auto', 'kernel': 'linear'} \n",
    "2. SVM_best_model: SVC(C=10, break_ties=False, cache_size=200, class_weight=None, coef0=0.0,\n",
    "    decision_function_shape='ovr', degree=3, gamma='auto', kernel='linear',\n",
    "    max_iter=-1, probability=True, random_state=1234, shrinking=True, tol=0.001,\n",
    "    verbose=False)\n",
    "\n",
    "The model was tested using the test data set, which generated the predicted values that will be used in the model evaluation section later:  \n",
    "3. SVM_y_pred: [-1.  1.  1. -1.  1.  1. -1.  1.]\n",
    "\n",
    "I also inspected feature importance of the model, and found out that its most important feature is:\n",
    "4. 'Dream,' with a coefficient of about 5.32, the highest among and very much higher than all other features."
   ]
  },
  {
   "cell_type": "markdown",
   "metadata": {},
   "source": [
    "### V. Analysis Result: Model Performance Evaluation and Comparision\n",
    "\n",
    "In this section, I will evaluate and compare the performance of the five supervised machine learning models I built for this binary class classification project in the last section, using the following evaluation metrics:\n",
    "1. confusion matrix: to find out the numbers of true negatives (TN), false positives(FP), false negatives (FN), and true positives (TP) in the data, which provides details and context for other related evaluation metrics;\n",
    "2. accuracy: to measure the overall correctness of prediction, which is of good reference value since our data is well-balanced\n",
    "3. F1-score: to find a harmonic mean of two other common evaluation metrics, precision and recall, which is rather robust\n",
    "4. AUC score (visualized in the ROC-AUC plot): to assess a model's ability of correctly classifying positive and negative classes across different probability thresholds, which is the most important evaluation metric for the binary classification models built in this project\n",
    "\n",
    "Thus, I will rate a model's performace with differnt weights of the evaluation metrics above, from highest to lowest, namely AUC score, accuracy, and F1-score. While, the details in their confusion matrix only serve as a reference. <br>\n",
    "\n",
    "I did not iterate the training and evaluation process to select features in this section, because I had done hyperparamter tuning and best hyperparmeter combination selection (using GridSearchCV) to optimize model performance in the last section. Features are automatically selected by the models themselves."
   ]
  },
  {
   "cell_type": "code",
   "execution_count": 50,
   "metadata": {},
   "outputs": [],
   "source": [
    "from sklearn.metrics import accuracy_score\n",
    "from sklearn.metrics import precision_score\n",
    "from sklearn.metrics import confusion_matrix\n",
    "from sklearn.metrics import roc_curve, roc_auc_score\n",
    "from sklearn.metrics import classification_report"
   ]
  },
  {
   "cell_type": "markdown",
   "metadata": {},
   "source": [
    "#### 1. Evaluation of the Logistic Model, LG"
   ]
  },
  {
   "cell_type": "code",
   "execution_count": 51,
   "metadata": {},
   "outputs": [
    {
     "name": "stdout",
     "output_type": "stream",
     "text": [
      "\n",
      "Classification Report - the Logistic Regression Model, LG:\n",
      "              precision    recall  f1-score   support\n",
      "\n",
      "        -1.0       0.67      0.50      0.57         4\n",
      "         1.0       0.60      0.75      0.67         4\n",
      "\n",
      "    accuracy                           0.62         8\n",
      "   macro avg       0.63      0.62      0.62         8\n",
      "weighted avg       0.63      0.62      0.62         8\n",
      "\n"
     ]
    }
   ],
   "source": [
    "print(\"\\nClassification Report - the Logistic Regression Model, LG:\")\n",
    "print(classification_report(y_test, LG_y_pred))"
   ]
  },
  {
   "cell_type": "code",
   "execution_count": 52,
   "metadata": {},
   "outputs": [
    {
     "name": "stdout",
     "output_type": "stream",
     "text": [
      "LG_confusionMatrix: [[2 2]\n",
      " [1 3]] \n",
      "\n",
      "number of true negatives of LG: 2\n",
      "number of true positives of LG: 3\n",
      "number of false negatives of LG: 1\n",
      "number of false positives of LG: 2\n",
      "LG false positive rate: 50.0 %\n",
      "LG false negative rate: 50.0 %\n"
     ]
    }
   ],
   "source": [
    "# confusion matrix of LG\n",
    "LG_confusionMatrix = confusion_matrix(y_test, LG_y_pred)\n",
    "print(\"LG_confusionMatrix:\", LG_confusionMatrix, \"\\n\")\n",
    "\n",
    "# true negatives (TN), false positives(FP), false negatives (FN), true positives (TP) of LG\n",
    "TN, FP, FN, TP = LG_confusionMatrix.ravel()\n",
    "print(\"number of true negatives of LG:\", TN)\n",
    "print(\"number of true positives of LG:\", TP)\n",
    "print(\"number of false negatives of LG:\", FN)\n",
    "print(\"number of false positives of LG:\", FP)\n",
    "\n",
    "# false positive rate of LG\n",
    "# false positive rate = FP / total negatives = FP / (FP+TN)\n",
    "LG_fpr = FP/(FP+TN)\n",
    "print(\"LG false positive rate:\", LG_fpr*100, \"%\")\n",
    "\n",
    "# false negative rate of LG\n",
    "# false negative rate = FN / total positives = FN / (TP+FN)\n",
    "LG_fnr = FP/(TP+FN)\n",
    "print(\"LG false negative rate:\", LG_fnr*100, \"%\")"
   ]
  },
  {
   "cell_type": "code",
   "execution_count": 53,
   "metadata": {},
   "outputs": [
    {
     "data": {
      "image/png": "[encoded data removed]",
      "text/plain": [
       "<Figure size 432x288 with 1 Axes>"
      ]
     },
     "metadata": {
      "needs_background": "light"
     },
     "output_type": "display_data"
    }
   ],
   "source": [
    "# ROC-AUC plot of LG\n",
    "LG_y_pred_prob = LG.predict_proba(X_test)[:, 1]\n",
    "fpr, tpr, thresholds = roc_curve(y_test, LG_y_pred_prob)\n",
    "roc_auc = roc_auc_score(y_test, LG_y_pred_prob)\n",
    "\n",
    "plt.plot(fpr, tpr, color='blue', lw=2, label='ROC Curve (AUC = {:.2f})'.format(roc_auc))\n",
    "plt.plot([0, 1], [0, 1], color='gray', linestyle='--')\n",
    "plt.xlabel('False Positive Rate')\n",
    "plt.ylabel('True Positive Rate')\n",
    "plt.title('ROC Curve of the Logistic Regression Model, LG')\n",
    "plt.legend(loc='lower right')\n",
    "plt.show()"
   ]
  },
  {
   "cell_type": "markdown",
   "metadata": {},
   "source": [
    "#### 2. Evaluation of the Decision Tree Model, DT"
   ]
  },
  {
   "cell_type": "code",
   "execution_count": 54,
   "metadata": {},
   "outputs": [
    {
     "name": "stdout",
     "output_type": "stream",
     "text": [
      "\n",
      "Classification Report - the Decision Tree Model, DT:\n",
      "              precision    recall  f1-score   support\n",
      "\n",
      "        -1.0       0.50      0.25      0.33         4\n",
      "         1.0       0.50      0.75      0.60         4\n",
      "\n",
      "    accuracy                           0.50         8\n",
      "   macro avg       0.50      0.50      0.47         8\n",
      "weighted avg       0.50      0.50      0.47         8\n",
      "\n"
     ]
    }
   ],
   "source": [
    "print(\"\\nClassification Report - the Decision Tree Model, DT:\")\n",
    "print(classification_report(y_test, DT_y_pred))"
   ]
  },
  {
   "cell_type": "code",
   "execution_count": 55,
   "metadata": {},
   "outputs": [
    {
     "name": "stdout",
     "output_type": "stream",
     "text": [
      "DT_confusionMatrix: [[1 3]\n",
      " [1 3]] \n",
      "\n",
      "number of true negatives of DT: 1\n",
      "number of true positives of DT: 3\n",
      "number of false negatives of DT: 1\n",
      "number of false positives of DT: 3\n",
      "DT false positive rate: 75.0 %\n",
      "DT false negative rate: 75.0 %\n"
     ]
    }
   ],
   "source": [
    "# confusion matrix of DT\n",
    "DT_confusionMatrix = confusion_matrix(y_test, DT_y_pred)\n",
    "print(\"DT_confusionMatrix:\", DT_confusionMatrix, \"\\n\")\n",
    "\n",
    "# true negatives (TN), false positives(FP), false negatives (FN), true positives (TP) of DT\n",
    "TN, FP, FN, TP = DT_confusionMatrix.ravel()\n",
    "print(\"number of true negatives of DT:\", TN)\n",
    "print(\"number of true positives of DT:\", TP)\n",
    "print(\"number of false negatives of DT:\", FN)\n",
    "print(\"number of false positives of DT:\", FP)\n",
    "\n",
    "# false positive rate of DT\n",
    "# false positive rate = FP / total negatives = FP / (FP+TN)\n",
    "DT_fpr = FP/(FP+TN)\n",
    "print(\"DT false positive rate:\", DT_fpr*100, \"%\")\n",
    "\n",
    "# false negative rate of DT\n",
    "# false negative rate = FN / total positives = FN / (TP+FN)\n",
    "DT_fnr = FP/(TP+FN)\n",
    "print(\"DT false negative rate:\", DT_fnr*100, \"%\")"
   ]
  },
  {
   "cell_type": "code",
   "execution_count": 56,
   "metadata": {},
   "outputs": [
    {
     "data": {
      "image/png": "[encoded data removed]",
      "text/plain": [
       "<Figure size 432x288 with 1 Axes>"
      ]
     },
     "metadata": {
      "needs_background": "light"
     },
     "output_type": "display_data"
    }
   ],
   "source": [
    "# ROC-AUC plot of DT\n",
    "DT_y_pred_prob = DT.predict_proba(X_test)[:, 1]\n",
    "fpr, tpr, thresholds = roc_curve(y_test, DT_y_pred_prob)\n",
    "roc_auc = roc_auc_score(y_test, DT_y_pred_prob)\n",
    "\n",
    "plt.plot(fpr, tpr, color='blue', lw=2, label='ROC Curve (AUC = {:.2f})'.format(roc_auc))\n",
    "plt.plot([0, 1], [0, 1], color='gray', linestyle='--')\n",
    "plt.xlabel('False Positive Rate')\n",
    "plt.ylabel('True Positive Rate')\n",
    "plt.title('ROC Curve of the Decision Tree Model, DT')\n",
    "plt.legend(loc='lower right')\n",
    "plt.show()"
   ]
  },
  {
   "cell_type": "markdown",
   "metadata": {},
   "source": [
    "#### 3. Evaluation of the Adaboost Model, AdaB"
   ]
  },
  {
   "cell_type": "code",
   "execution_count": 57,
   "metadata": {},
   "outputs": [
    {
     "name": "stdout",
     "output_type": "stream",
     "text": [
      "\n",
      "Classification Report - the Adaboost Mode, AdaB:\n",
      "              precision    recall  f1-score   support\n",
      "\n",
      "        -1.0       1.00      0.25      0.40         4\n",
      "         1.0       0.57      1.00      0.73         4\n",
      "\n",
      "    accuracy                           0.62         8\n",
      "   macro avg       0.79      0.62      0.56         8\n",
      "weighted avg       0.79      0.62      0.56         8\n",
      "\n"
     ]
    }
   ],
   "source": [
    "print(\"\\nClassification Report - the Adaboost Mode, AdaB:\")\n",
    "print(classification_report(y_test, AdaB_y_pred))"
   ]
  },
  {
   "cell_type": "code",
   "execution_count": 58,
   "metadata": {},
   "outputs": [
    {
     "name": "stdout",
     "output_type": "stream",
     "text": [
      "AdaB_confusionMatrix: [[1 3]\n",
      " [0 4]] \n",
      "\n",
      "number of true negatives of AdaB: 1\n",
      "number of true positives of AdaB: 4\n",
      "number of false negatives of AdaB: 0\n",
      "number of false positives of AdaB: 3\n",
      "AdaB false positive rate: 75.0 %\n",
      "AdaB false negative rate: 75.0 %\n"
     ]
    }
   ],
   "source": [
    "# confusion matrix of AdaB\n",
    "AdaB_confusionMatrix = confusion_matrix(y_test, AdaB_y_pred)\n",
    "print(\"AdaB_confusionMatrix:\", AdaB_confusionMatrix, \"\\n\")\n",
    "\n",
    "# true negatives (TN), false positives(FP), false negatives (FN), true positives (TP) of DT\n",
    "TN, FP, FN, TP = AdaB_confusionMatrix.ravel()\n",
    "print(\"number of true negatives of AdaB:\", TN)\n",
    "print(\"number of true positives of AdaB:\", TP)\n",
    "print(\"number of false negatives of AdaB:\", FN)\n",
    "print(\"number of false positives of AdaB:\", FP)\n",
    "\n",
    "# false positive rate of AdaB\n",
    "# false positive rate = FP / total negatives = FP / (FP+TN)\n",
    "AdaB_fpr = FP/(FP+TN)\n",
    "print(\"AdaB false positive rate:\", AdaB_fpr*100, \"%\")\n",
    "\n",
    "# false negative rate of DT\n",
    "# false negative rate = FN / total positives = FN / (TP+FN)\n",
    "AdaB_fnr = FP/(TP+FN)\n",
    "print(\"AdaB false negative rate:\", AdaB_fnr*100, \"%\")"
   ]
  },
  {
   "cell_type": "code",
   "execution_count": 59,
   "metadata": {},
   "outputs": [
    {
     "data": {
      "image/png": "[encoded data removed]",
      "text/plain": [
       "<Figure size 432x288 with 1 Axes>"
      ]
     },
     "metadata": {
      "needs_background": "light"
     },
     "output_type": "display_data"
    }
   ],
   "source": [
    "# ROC-AUC plot of AdaB\n",
    "AdaB_y_pred_prob = AdaB.predict_proba(X_test)[:, 1]\n",
    "fpr, tpr, thresholds = roc_curve(y_test, AdaB_y_pred_prob)\n",
    "roc_auc = roc_auc_score(y_test, AdaB_y_pred_prob)\n",
    "\n",
    "plt.plot(fpr, tpr, color='blue', lw=2, label='ROC Curve (AUC = {:.2f})'.format(roc_auc))\n",
    "plt.plot([0, 1], [0, 1], color='gray', linestyle='--')\n",
    "plt.xlabel('False Positive Rate')\n",
    "plt.ylabel('True Positive Rate')\n",
    "plt.title('ROC Curve of the Adaboost Model, AdaB')\n",
    "plt.legend(loc='lower right')\n",
    "plt.show()"
   ]
  },
  {
   "cell_type": "markdown",
   "metadata": {},
   "source": [
    "#### 4. Evaluation of the Random Forest Model, RF"
   ]
  },
  {
   "cell_type": "code",
   "execution_count": 60,
   "metadata": {},
   "outputs": [
    {
     "name": "stdout",
     "output_type": "stream",
     "text": [
      "\n",
      "Classification Report - the Random Forest Model, RF:\n",
      "              precision    recall  f1-score   support\n",
      "\n",
      "        -1.0       0.40      0.50      0.44         4\n",
      "         1.0       0.33      0.25      0.29         4\n",
      "\n",
      "    accuracy                           0.38         8\n",
      "   macro avg       0.37      0.38      0.37         8\n",
      "weighted avg       0.37      0.38      0.37         8\n",
      "\n"
     ]
    }
   ],
   "source": [
    "print(\"\\nClassification Report - the Random Forest Model, RF:\")\n",
    "print(classification_report(y_test, RF_y_pred))"
   ]
  },
  {
   "cell_type": "code",
   "execution_count": 61,
   "metadata": {},
   "outputs": [
    {
     "name": "stdout",
     "output_type": "stream",
     "text": [
      "RF_confusionMatrix: [[2 2]\n",
      " [3 1]] \n",
      "\n",
      "number of true negatives of RF: 2\n",
      "number of true positives of RF: 1\n",
      "number of false negatives of RF: 3\n",
      "number of false positives of RF: 2\n",
      "RF false positive rate: 50.0 %\n",
      "RF false negative rate: 50.0 %\n"
     ]
    }
   ],
   "source": [
    "# confusion matrix of RF\n",
    "RF_confusionMatrix = confusion_matrix(y_test, RF_y_pred)\n",
    "print(\"RF_confusionMatrix:\", RF_confusionMatrix, \"\\n\")\n",
    "\n",
    "# true negatives (TN), false positives(FP), false negatives (FN), true positives (TP) of DT\n",
    "TN, FP, FN, TP = RF_confusionMatrix.ravel()\n",
    "print(\"number of true negatives of RF:\", TN)\n",
    "print(\"number of true positives of RF:\", TP)\n",
    "print(\"number of false negatives of RF:\", FN)\n",
    "print(\"number of false positives of RF:\", FP)\n",
    "\n",
    "# false positive rate of RF\n",
    "# false positive rate = FP / total negatives = FP / (FP+TN)\n",
    "RF_fpr = FP/(FP+TN)\n",
    "print(\"RF false positive rate:\", RF_fpr*100, \"%\")\n",
    "\n",
    "# false negative rate of DT\n",
    "# false negative rate = FN / total positives = FN / (TP+FN)\n",
    "RF_fnr = FP/(TP+FN)\n",
    "print(\"RF false negative rate:\", RF_fnr*100, \"%\")"
   ]
  },
  {
   "cell_type": "code",
   "execution_count": 62,
   "metadata": {},
   "outputs": [
    {
     "data": {
      "image/png": "[encoded data removed]",
      "text/plain": [
       "<Figure size 432x288 with 1 Axes>"
      ]
     },
     "metadata": {
      "needs_background": "light"
     },
     "output_type": "display_data"
    }
   ],
   "source": [
    "# ROC-AUC plot of RF\n",
    "RF_y_pred_prob = RF.predict_proba(X_test)[:, 1]\n",
    "fpr, tpr, thresholds = roc_curve(y_test, RF_y_pred_prob)\n",
    "roc_auc = roc_auc_score(y_test, RF_y_pred_prob)\n",
    "\n",
    "plt.plot(fpr, tpr, color='blue', lw=2, label='ROC Curve (AUC = {:.2f})'.format(roc_auc))\n",
    "plt.plot([0, 1], [0, 1], color='gray', linestyle='--')\n",
    "plt.xlabel('False Positive Rate')\n",
    "plt.ylabel('True Positive Rate')\n",
    "plt.title('ROC Curve of the Random Forest Model, RF')\n",
    "plt.legend(loc='lower right')\n",
    "plt.show()"
   ]
  },
  {
   "cell_type": "markdown",
   "metadata": {},
   "source": [
    "#### 5. Evaluation of the Support Vector Machine Model, SVM"
   ]
  },
  {
   "cell_type": "code",
   "execution_count": 63,
   "metadata": {},
   "outputs": [
    {
     "name": "stdout",
     "output_type": "stream",
     "text": [
      "\n",
      "Classification Report - the Support Vector Machine Model, SVM:\n",
      "              precision    recall  f1-score   support\n",
      "\n",
      "        -1.0       0.67      0.50      0.57         4\n",
      "         1.0       0.60      0.75      0.67         4\n",
      "\n",
      "    accuracy                           0.62         8\n",
      "   macro avg       0.63      0.62      0.62         8\n",
      "weighted avg       0.63      0.62      0.62         8\n",
      "\n"
     ]
    }
   ],
   "source": [
    "print(\"\\nClassification Report - the Support Vector Machine Model, SVM:\")\n",
    "print(classification_report(y_test, SVM_y_pred))"
   ]
  },
  {
   "cell_type": "code",
   "execution_count": 64,
   "metadata": {},
   "outputs": [
    {
     "name": "stdout",
     "output_type": "stream",
     "text": [
      "SVM_confusionMatrix: [[2 2]\n",
      " [1 3]] \n",
      "\n",
      "number of true negatives of SVM: 2\n",
      "number of true positives of SVM: 3\n",
      "number of false negatives of SVM: 1\n",
      "number of false positives of SVM: 2\n",
      "SVM false positive rate: 50.0 %\n",
      "SVM false negative rate: 50.0 %\n"
     ]
    }
   ],
   "source": [
    "# confusion matrix of SVM\n",
    "SVM_confusionMatrix = confusion_matrix(y_test, SVM_y_pred)\n",
    "print(\"SVM_confusionMatrix:\", SVM_confusionMatrix, \"\\n\")\n",
    "\n",
    "# true negatives (TN), false positives(FP), false negatives (FN), true positives (TP) of DT\n",
    "TN, FP, FN, TP = SVM_confusionMatrix.ravel()\n",
    "print(\"number of true negatives of SVM:\", TN)\n",
    "print(\"number of true positives of SVM:\", TP)\n",
    "print(\"number of false negatives of SVM:\", FN)\n",
    "print(\"number of false positives of SVM:\", FP)\n",
    "\n",
    "# false positive rate of SVM\n",
    "# false positive rate = FP / total negatives = FP / (FP+TN)\n",
    "SVM_fpr = FP/(FP+TN)\n",
    "print(\"SVM false positive rate:\", SVM_fpr*100, \"%\")\n",
    "\n",
    "# false negative rate of DT\n",
    "# false negative rate = FN / total positives = FN / (TP+FN)\n",
    "SVM_fnr = FP/(TP+FN)\n",
    "print(\"SVM false negative rate:\", SVM_fnr*100, \"%\")"
   ]
  },
  {
   "cell_type": "code",
   "execution_count": 65,
   "metadata": {},
   "outputs": [
    {
     "data": {
      "image/png": "[encoded data removed]",
      "text/plain": [
       "<Figure size 432x288 with 1 Axes>"
      ]
     },
     "metadata": {
      "needs_background": "light"
     },
     "output_type": "display_data"
    }
   ],
   "source": [
    "# ROC-AUC plot of SVM\n",
    "SVM_y_pred_prob = SVM.predict_proba(X_test)[:, 1]\n",
    "fpr, tpr, thresholds = roc_curve(y_test, SVM_y_pred_prob)\n",
    "roc_auc = roc_auc_score(y_test, SVM_y_pred_prob)\n",
    "\n",
    "plt.plot(fpr, tpr, color='blue', lw=2, label='ROC Curve (AUC = {:.2f})'.format(roc_auc))\n",
    "plt.plot([0, 1], [0, 1], color='gray', linestyle='--')\n",
    "plt.xlabel('False Positive Rate')\n",
    "plt.ylabel('True Positive Rate')\n",
    "plt.title('ROC Curve of the Support Vector Machine Model, SVM')\n",
    "plt.legend(loc='lower right')\n",
    "plt.show()"
   ]
  },
  {
   "cell_type": "markdown",
   "metadata": {},
   "source": [
    "##### Model Performance Comparison Summary:\n",
    "\n",
    "The five models' score for the selected evaluation metrics are:\n",
    "1. logistic regression model (LG): AUC 0.69, accuracy 0.62, F1 0.62\n",
    "2. decision tree model (DT): AUC 0.50, accuracy 0.50, F1 0.47\n",
    "3. adaboost model (AdaB): AUC 0.38, accuracy 0.62, F1 0.56\n",
    "4. random forest model (RF): AUC 0.38, accuracy 0.38, F1 0.37\n",
    "5. support vector machine model (SVM): AUC 0.72, accuracy 0.62, F1 0.62\n",
    "\n",
    "Therefore, we can conclude that the model with best binary class classification performance is the support vector machine model, SVM. It has the highest AUC score, accuracy, and F1-score. \n",
    "\n",
    "The other models with performance from the best to the worst are: LG, AdaB, DT, and RF."
   ]
  },
  {
   "cell_type": "markdown",
   "metadata": {},
   "source": [
    "### VI. Discussion and Conclusion\n",
    "\n",
    "Since I have identified SVM as the best performing model for this project, I will make some predictions using a few rows of new record the subject has collected recently to see how well the model works. These data are reasonable (collected using the same features and standards by the same subject), unseen, new data that are not in the test set."
   ]
  },
  {
   "cell_type": "code",
   "execution_count": 66,
   "metadata": {},
   "outputs": [
    {
     "name": "stdout",
     "output_type": "stream",
     "text": [
      "new data X_new1: [[1, 22.5, 4.5, 31, 3, 2, 0, 3, 2]]\n",
      "new data should be labelled as: 1\n",
      "SVM prediction of the new data X_new1: [1.] \n",
      "\n",
      "new data X_new2: [[2, 22.58, 6.08, 30.9, 1, 1, 0, 3, 2]]\n",
      "new data should be labelled as: -1\n",
      "SVM prediction of the new data X_new2: [-1.] \n",
      "\n",
      "new data X_new3: [[3, 23.43, 6.53, 30.2, 3, 2, 0, 3, 2]]\n",
      "new data should be labelled as: 1\n",
      "SVM prediction of the new data X_new3: [1.] \n",
      "\n",
      "new data X_new4: [[4, 24, 7, 31.35, 3, 2, 0, 3, 2]]\n",
      "new data should be labelled as: -1\n",
      "SVM prediction of the new data X_new1: [1.]\n"
     ]
    }
   ],
   "source": [
    "# make predictions from reasonable, unseen, new data (not in the test set either)\n",
    "# sugested by the subject\n",
    "# using the model with the best prediction performance\n",
    "import numpy as np\n",
    "x_new1 = [[1, 22.5, 4.5, 31, 3, 2, 0, 3, 2]]\n",
    "y_new1 = 1 #sleep quality level 5\n",
    "SVM_y_pred_new1 = SVM.predict(x_new1)\n",
    "print(\"new data X_new1:\", x_new1)\n",
    "print(\"new data should be labelled as:\", y_new1)\n",
    "print(\"SVM prediction of the new data X_new1:\", SVM_y_pred_new1, \"\\n\")\n",
    "\n",
    "\n",
    "x_new2 = [[2, 22.58, 6.08, 30.9, 1, 1, 0, 3, 2]]\n",
    "y_new2 = -1 #sleep quality level 4\n",
    "SVM_y_pred_new2 = SVM.predict(x_new2)\n",
    "print(\"new data X_new2:\", x_new2)\n",
    "print(\"new data should be labelled as:\", y_new2)\n",
    "print(\"SVM prediction of the new data X_new2:\", SVM_y_pred_new2, \"\\n\")\n",
    "\n",
    "x_new3 = [[3, 23.43, 6.53, 30.2, 3, 2, 0, 3, 2]]\n",
    "y_new3 = 1 #sleep quality level 5\n",
    "SVM_y_pred_new3 = SVM.predict(x_new3)\n",
    "print(\"new data X_new3:\", x_new3)\n",
    "print(\"new data should be labelled as:\", y_new3)\n",
    "print(\"SVM prediction of the new data X_new3:\", SVM_y_pred_new3, \"\\n\")\n",
    "\n",
    "x_new4 = [[4, 24, 7, 31.35, 3, 2, 0, 3, 2]]\n",
    "y_new4 = -1 #sleep quality level 4\n",
    "SVM_y_pred_new4 = SVM.predict(x_new4)\n",
    "print(\"new data X_new4:\", x_new4)\n",
    "print(\"new data should be labelled as:\", y_new4)\n",
    "print(\"SVM prediction of the new data X_new1:\", SVM_y_pred_new4)"
   ]
  },
  {
   "cell_type": "markdown",
   "metadata": {},
   "source": [
    "##### Tried Out the Prediction Power of the SVM Model with New, Unseen Data:\n",
    "\n",
    "It turns out that SVM only made one wrong prediction (for X_new4) among the four rounds of prediction experiments! This indeed boosted my confidence in the predictive power of the model."
   ]
  },
  {
   "cell_type": "markdown",
   "metadata": {},
   "source": [
    "##### Conclusion:\n",
    "\n",
    "To conclude, the answers to my questions for this project are: <br>\n",
    "1. Which features are correlated? How? <br>\n",
    "Ans: The features that are correlated are 'Waketime' and 'Sleep Length' (with a positive correlation 0.53), 'Bedtime' and 'Sleep Length' (with a negative correlation -0.75), and 'Sleep Quality Level' and 'Slept Well' (with a positive correlation 0.79).\n",
    "\n",
    "\n",
    "2. Which features are important in the prediction of the subject's sleep quality? Why?  <br>\n",
    "Ans: In the first two best performing model, the feature most important in the prediction of the subject's sleep quality is 'Dream' (with an coefficient of 5.32 and 6.47, respectively).\n",
    "\n",
    "\n",
    "3. Which model, logistic regression, decision tree, adaboost, random forest, or support vector machine, turns out to be the best model for this binary class classification task? Why?  <br>\n",
    "Ans: The best performing model is the support vector model, SVM. It has the highest AUC score (0.72), accuracy (0.62), and F1-score (0.62).\n",
    "\n",
    "\n",
    "4. How well do the best-performing model predict the subject's sleep quality?  <br>\n",
    "Ans: It has an AUC score of 0.72, a accuracy of 0.62, and a F1-score of 0.62. Besides, it only made one wrong prediction (for X_new4) among the four rounds of prediction experiments conducted above."
   ]
  },
  {
   "cell_type": "markdown",
   "metadata": {},
   "source": [
    "##### Discussion:\n",
    "\n",
    "What are the limitations of this project? How can I further improve it? <br>\n",
    "\n",
    "The dataset was collected by a lay-person who did not have any domian knowlege about factors that would influence sleep quality. The sleep quality level was also self-assigned by the subject without a scientific rubric. Therefore, the features in this dataset are probably not inclusive. If I were to conduct this project again, I would find out the features to be recorded and their weights in terms of their influence over sleep quality based on published research articles. <br>\n",
    "\n",
    "Besides, due to my limited knowledge of machine learning, I could only build the models I have studied. There could be other models that suit this binary classification task better, as well as other techniques that can enhance model performance.This is my very first machine learning project. Hopefully I would be able to dive deeper into this field and improve my modelling skills to better optimize this kind of models."
   ]
  }
 ],
 "metadata": {
  "kernelspec": {
   "display_name": "Python 3",
   "language": "python",
   "name": "python3"
  },
  "language_info": {
   "codemirror_mode": {
    "name": "ipython",
    "version": 3
   },
   "file_extension": ".py",
   "mimetype": "text/x-python",
   "name": "python",
   "nbconvert_exporter": "python",
   "pygments_lexer": "ipython3",
   "version": "3.7.6"
  }
 },
 "nbformat": 4,
 "nbformat_minor": 4
}
